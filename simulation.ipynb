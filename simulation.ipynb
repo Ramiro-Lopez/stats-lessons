{
 "cells": [
  {
   "cell_type": "code",
   "execution_count": 1,
   "metadata": {},
   "outputs": [],
   "source": [
    "import pandas as pd\n",
    "import matplotlib.pyplot as plt\n",
    "import numpy as np\n",
    "from scipy import stats"
   ]
  },
  {
   "cell_type": "markdown",
   "metadata": {},
   "source": [
    "# Question 1 \n",
    "### How likely is it that you roll doubles when rolling two dice?\n",
    "\n"
   ]
  },
  {
   "cell_type": "code",
   "execution_count": 2,
   "metadata": {},
   "outputs": [
    {
     "data": {
      "text/plain": [
       "0.16666666666666666"
      ]
     },
     "execution_count": 2,
     "metadata": {},
     "output_type": "execute_result"
    }
   ],
   "source": [
    "# expexted \n",
    "2/12"
   ]
  },
  {
   "cell_type": "code",
   "execution_count": 57,
   "metadata": {},
   "outputs": [],
   "source": [
    "# define our variables \n",
    "# two dice so two lists \n",
    "die_one = [1, 2, 3, 4, 5, 6]\n",
    "die_two = [1, 2, 3, 4, 5, 6]\n",
    "\n",
    "# this is a big number so we can test theoretical probability \n",
    "die_trials = 100_000"
   ]
  },
  {
   "cell_type": "code",
   "execution_count": 58,
   "metadata": {},
   "outputs": [],
   "source": [
    "# create an array for each event in this case a die roll\n",
    "# they each pick a random number one threw six one hundred times\n",
    "d_one_roll = np.random.choice(die_one, die_trials)\n",
    "d_two_roll = np.random.choice(die_two, die_trials)"
   ]
  },
  {
   "cell_type": "code",
   "execution_count": 59,
   "metadata": {},
   "outputs": [
    {
     "data": {
      "text/plain": [
       "16680"
      ]
     },
     "execution_count": 59,
     "metadata": {},
     "output_type": "execute_result"
    }
   ],
   "source": [
    "# compare to see how many of the 100 trials match indecating rolling a double \n",
    "# this spits out a boolian array of True and False \n",
    "# use sum to count the number of instances that are True becuase of the == comparison operator \n",
    "(d_two_roll == d_one_roll).sum()"
   ]
  },
  {
   "cell_type": "code",
   "execution_count": 60,
   "metadata": {},
   "outputs": [
    {
     "data": {
      "text/plain": [
       "0.1668"
      ]
     },
     "execution_count": 60,
     "metadata": {},
     "output_type": "execute_result"
    }
   ],
   "source": [
    "# divide the sum by the total number of trials to get the percentage \n",
    "(d_two_roll == d_one_roll).sum() / len(d_one_roll)\n",
    "\n",
    "# with only 100 trials we can see that the expected value is very close to the actual value"
   ]
  },
  {
   "cell_type": "code",
   "execution_count": 131,
   "metadata": {},
   "outputs": [
    {
     "data": {
      "text/plain": [
       "0.1668"
      ]
     },
     "execution_count": 131,
     "metadata": {},
     "output_type": "execute_result"
    }
   ],
   "source": [
    "# can also use mean \n",
    "\n",
    "(d_two_roll == d_one_roll).mean()\n",
    "\n",
    "# 0.1668"
   ]
  },
  {
   "cell_type": "markdown",
   "metadata": {},
   "source": [
    "# Question 2\n",
    "### If you flip 8 coins, what is the probability of getting exactly 3 heads? What is the probability of getting more than 3 heads?\n",
    "\n"
   ]
  },
  {
   "cell_type": "code",
   "execution_count": 7,
   "metadata": {},
   "outputs": [
    {
     "data": {
      "text/plain": [
       "0.375"
      ]
     },
     "execution_count": 7,
     "metadata": {},
     "output_type": "execute_result"
    }
   ],
   "source": [
    "# expected \n",
    "3/8"
   ]
  },
  {
   "cell_type": "code",
   "execution_count": 3,
   "metadata": {},
   "outputs": [],
   "source": [
    "# potential coin flip outputs are heads or tails (fair coin)\n",
    "flip_outcomes = ['H', 'T']\n",
    "# number of trials is the number of flips, 8\n",
    "n_trials = 8\n",
    "n_simulations = 100_000\n",
    "\n",
    "# the simulation space will be 100k instances of our 8 flip trials\n",
    "flip_simulations = np.random.choice(flip_outcomes, (n_simulations, n_trials))\n"
   ]
  },
  {
   "cell_type": "code",
   "execution_count": 4,
   "metadata": {},
   "outputs": [
    {
     "data": {
      "text/plain": [
       "array([['T', 'H', 'T', 'T', 'T', 'T', 'T', 'H'],\n",
       "       ['T', 'T', 'H', 'T', 'H', 'H', 'H', 'H'],\n",
       "       ['T', 'T', 'H', 'H', 'T', 'T', 'T', 'T'],\n",
       "       ['H', 'H', 'T', 'T', 'T', 'T', 'T', 'H'],\n",
       "       ['H', 'H', 'T', 'T', 'H', 'T', 'T', 'T']], dtype='<U1')"
      ]
     },
     "execution_count": 4,
     "metadata": {},
     "output_type": "execute_result"
    }
   ],
   "source": [
    "flip_simulations[:5,:]\n"
   ]
  },
  {
   "cell_type": "code",
   "execution_count": 150,
   "metadata": {},
   "outputs": [],
   "source": [
    "# first set = to 'H' for a boolian mask for the array \n",
    "# second sum the all the True values because of the == operator\n",
    "# therd sum by axis=1 for columns turning it into an array of numbers \n",
    "# forth find all instances that = 3 turning it back to boolian vlaues \n",
    "# fith sum all of the instances that = True \n",
    "exact_three = ((hundred_flips == 'H').sum(axis=1) == 3).sum()"
   ]
  },
  {
   "cell_type": "code",
   "execution_count": 151,
   "metadata": {},
   "outputs": [
    {
     "data": {
      "text/plain": [
       "0.21932"
      ]
     },
     "execution_count": 151,
     "metadata": {},
     "output_type": "execute_result"
    }
   ],
   "source": [
    "# total of all values that are exacly 3 / total flips \n",
    "exact_three / len(hundred_flips)\n",
    "\n",
    "# or \n",
    "\n",
    "((hundred_flips == 'H').sum(axis=1) == 3).mean()\n",
    "\n",
    "# 0.217"
   ]
  },
  {
   "cell_type": "code",
   "execution_count": 152,
   "metadata": {},
   "outputs": [],
   "source": [
    "# modified the formula to calculate the probabiliy of more than 3 heads\n",
    "more_than_three = ((hundred_flips == 'H').sum(axis=1) > 3).sum()"
   ]
  },
  {
   "cell_type": "code",
   "execution_count": 153,
   "metadata": {},
   "outputs": [
    {
     "data": {
      "text/plain": [
       "0.63648"
      ]
     },
     "execution_count": 153,
     "metadata": {},
     "output_type": "execute_result"
    }
   ],
   "source": [
    "# total of all values that are more than 3 / total flips \n",
    "more_than_three / len(hundred_flips)\n",
    "\n",
    "# or \n",
    "\n",
    "((hundred_flips == 'H').sum(axis=1) > 3).mean()\n",
    "\n",
    "### This is not what I expected unless I calculates the expected value wrong \n",
    "\n",
    "# 0.6375"
   ]
  },
  {
   "cell_type": "markdown",
   "metadata": {},
   "source": [
    "# Question 3\n",
    "### There are approximitely 3 web development cohorts for every 1 data science cohort at Codeup. \n",
    "\n",
    "### Assuming that Codeup randomly selects an alumni to put on a billboard, what are the odds that the two billboards I drive past both have data science students on them?\n",
    "\n"
   ]
  },
  {
   "cell_type": "code",
   "execution_count": 14,
   "metadata": {},
   "outputs": [
    {
     "data": {
      "text/plain": [
       "0.25"
      ]
     },
     "execution_count": 14,
     "metadata": {},
     "output_type": "execute_result"
    }
   ],
   "source": [
    "# expected \n",
    "1/4"
   ]
  },
  {
   "cell_type": "code",
   "execution_count": 146,
   "metadata": {},
   "outputs": [],
   "source": [
    "# define our variables \n",
    "\n",
    "opt = ['web', 'web', 'web', 'data']\n",
    "cu_trial = ncols = 2 \n",
    "cu_sim = nrows = 1000"
   ]
  },
  {
   "cell_type": "code",
   "execution_count": 154,
   "metadata": {},
   "outputs": [],
   "source": [
    "# creates an array with nrows and n cols with 4 choices \n",
    "\n",
    "billboards = np.random.choice(opt, (nrows, ncols))"
   ]
  },
  {
   "cell_type": "code",
   "execution_count": 17,
   "metadata": {},
   "outputs": [
    {
     "data": {
      "text/plain": [
       "array([[False, False],\n",
       "       [False, False],\n",
       "       [False,  True],\n",
       "       ...,\n",
       "       [ True, False],\n",
       "       [False, False],\n",
       "       [False,  True]])"
      ]
     },
     "execution_count": 17,
     "metadata": {},
     "output_type": "execute_result"
    }
   ],
   "source": [
    "# create an array of bools to get a base understanding if any rows come back True \n",
    "\n",
    "billboards == 'data'"
   ]
  },
  {
   "cell_type": "code",
   "execution_count": 18,
   "metadata": {},
   "outputs": [
    {
     "data": {
      "text/plain": [
       "529"
      ]
     },
     "execution_count": 18,
     "metadata": {},
     "output_type": "execute_result"
    }
   ],
   "source": [
    "# got a count of all the values that are True \n",
    "\n",
    "(billboards == 'data').sum()"
   ]
  },
  {
   "cell_type": "code",
   "execution_count": 19,
   "metadata": {},
   "outputs": [
    {
     "data": {
      "text/plain": [
       "array([0, 0, 1, 1, 0, 1, 1, 1, 0, 0, 0, 0, 0, 1, 1, 2, 1, 1, 0, 0, 1, 1,\n",
       "       2, 1, 1, 1, 0, 0, 1, 1, 1, 0, 0, 0, 1, 1, 1, 0, 1, 2, 0, 1, 1, 1,\n",
       "       0, 0, 0, 1, 1, 2, 1, 2, 1, 0, 0, 0, 2, 1, 0, 0, 0, 0, 1, 1, 0, 0,\n",
       "       0, 0, 0, 1, 1, 0, 0, 0, 0, 0, 1, 1, 1, 2, 0, 0, 0, 0, 1, 1, 0, 0,\n",
       "       0, 1, 1, 0, 0, 0, 0, 1, 1, 1, 1, 1, 0, 0, 1, 1, 2, 0, 0, 0, 0, 0,\n",
       "       0, 0, 0, 1, 1, 2, 1, 1, 0, 1, 2, 0, 1, 0, 1, 0, 1, 1, 0, 2, 0, 1,\n",
       "       2, 0, 0, 1, 0, 0, 1, 1, 1, 1, 0, 0, 1, 0, 0, 0, 0, 1, 0, 0, 0, 1,\n",
       "       0, 0, 1, 0, 0, 1, 0, 1, 0, 0, 1, 0, 0, 2, 1, 0, 0, 0, 0, 0, 2, 0,\n",
       "       1, 0, 0, 0, 1, 1, 1, 1, 1, 2, 0, 1, 0, 1, 0, 0, 1, 0, 1, 0, 0, 0,\n",
       "       0, 1, 1, 1, 1, 0, 1, 1, 1, 1, 0, 0, 0, 1, 1, 0, 0, 1, 0, 0, 1, 0,\n",
       "       0, 0, 0, 1, 0, 1, 1, 2, 0, 0, 1, 0, 1, 1, 0, 1, 0, 1, 0, 0, 1, 0,\n",
       "       0, 1, 1, 1, 1, 0, 1, 0, 0, 1, 0, 0, 1, 0, 1, 1, 2, 0, 1, 0, 1, 1,\n",
       "       0, 1, 0, 2, 0, 2, 1, 2, 1, 1, 1, 0, 0, 0, 2, 1, 0, 0, 0, 0, 1, 2,\n",
       "       1, 0, 0, 0, 1, 1, 2, 0, 1, 1, 1, 1, 0, 0, 2, 2, 0, 1, 1, 1, 0, 0,\n",
       "       0, 1, 1, 0, 0, 0, 0, 1, 0, 1, 0, 0, 0, 0, 1, 0, 2, 0, 1, 0, 0, 0,\n",
       "       0, 1, 0, 1, 1, 1, 1, 0, 0, 1, 0, 0, 1, 0, 1, 1, 1, 0, 1, 0, 1, 1,\n",
       "       0, 0, 0, 1, 1, 2, 0, 0, 0, 0, 1, 1, 0, 0, 1, 1, 1, 1, 0, 0, 0, 0,\n",
       "       0, 1, 2, 0, 0, 1, 0, 1, 0, 1, 1, 1, 0, 0, 0, 0, 2, 0, 0, 1, 0, 1,\n",
       "       0, 0, 1, 0, 2, 1, 1, 1, 1, 0, 1, 0, 0, 2, 1, 0, 0, 2, 0, 0, 0, 1,\n",
       "       0, 0, 0, 0, 0, 0, 1, 0, 0, 0, 1, 0, 0, 0, 1, 0, 0, 0, 0, 1, 0, 0,\n",
       "       1, 0, 0, 1, 0, 1, 0, 0, 2, 0, 1, 1, 0, 1, 0, 0, 1, 2, 2, 1, 0, 1,\n",
       "       0, 0, 1, 1, 0, 1, 1, 0, 0, 0, 1, 0, 0, 0, 1, 1, 0, 0, 0, 1, 0, 1,\n",
       "       1, 0, 1, 0, 0, 0, 1, 0, 0, 0, 0, 1, 1, 0, 0, 2, 1, 0, 0, 1, 1, 0,\n",
       "       1, 1, 0, 0, 0, 0, 1, 0, 0, 1, 0, 1, 0, 1, 1, 0, 1, 0, 1, 0, 0, 0,\n",
       "       0, 0, 0, 0, 0, 1, 1, 0, 0, 2, 1, 1, 1, 2, 0, 0, 0, 0, 1, 1, 0, 1,\n",
       "       0, 0, 0, 0, 1, 0, 1, 0, 0, 0, 0, 0, 1, 1, 0, 0, 1, 1, 0, 1, 1, 0,\n",
       "       1, 2, 1, 1, 0, 0, 1, 0, 1, 0, 0, 1, 0, 0, 1, 0, 0, 1, 0, 1, 0, 1,\n",
       "       0, 1, 2, 1, 1, 0, 0, 0, 0, 0, 1, 0, 0, 0, 0, 0, 1, 0, 1, 1, 0, 0,\n",
       "       1, 0, 1, 1, 1, 0, 1, 0, 0, 0, 1, 1, 0, 1, 0, 1, 1, 1, 0, 0, 0, 1,\n",
       "       1, 0, 1, 2, 1, 0, 1, 1, 2, 0, 1, 0, 1, 1, 0, 1, 0, 1, 1, 1, 0, 1,\n",
       "       2, 0, 0, 2, 1, 0, 0, 0, 0, 0, 1, 2, 1, 0, 0, 0, 0, 0, 1, 0, 0, 0,\n",
       "       0, 1, 1, 0, 1, 0, 1, 0, 0, 0, 1, 0, 0, 0, 1, 1, 0, 1, 1, 1, 0, 0,\n",
       "       0, 0, 1, 0, 2, 0, 0, 1, 1, 0, 2, 2, 0, 0, 0, 0, 0, 0, 1, 1, 0, 1,\n",
       "       0, 1, 2, 1, 0, 0, 1, 0, 0, 1, 0, 0, 0, 0, 0, 0, 0, 1, 0, 1, 0, 1,\n",
       "       0, 1, 0, 1, 1, 2, 0, 1, 0, 0, 1, 0, 1, 2, 0, 1, 1, 0, 1, 2, 0, 0,\n",
       "       1, 1, 0, 1, 1, 1, 0, 0, 1, 0, 1, 0, 0, 1, 1, 1, 0, 0, 1, 0, 0, 0,\n",
       "       0, 2, 0, 1, 0, 1, 0, 0, 1, 1, 0, 1, 0, 0, 0, 1, 2, 1, 0, 1, 0, 1,\n",
       "       0, 0, 0, 1, 0, 2, 1, 2, 0, 1, 1, 0, 1, 0, 0, 0, 0, 0, 1, 1, 1, 0,\n",
       "       0, 0, 1, 0, 2, 0, 0, 0, 0, 0, 0, 0, 1, 0, 0, 0, 0, 0, 0, 0, 1, 2,\n",
       "       0, 0, 1, 0, 0, 0, 0, 1, 1, 1, 0, 2, 2, 0, 0, 0, 0, 0, 1, 0, 1, 0,\n",
       "       1, 0, 1, 1, 1, 0, 0, 0, 1, 1, 0, 0, 0, 1, 0, 2, 0, 0, 0, 1, 1, 1,\n",
       "       2, 0, 1, 0, 1, 1, 1, 0, 0, 0, 1, 0, 0, 0, 0, 1, 1, 1, 1, 1, 0, 1,\n",
       "       2, 0, 1, 1, 0, 0, 1, 0, 0, 1, 0, 0, 0, 1, 2, 0, 2, 1, 0, 0, 1, 1,\n",
       "       1, 0, 0, 0, 0, 0, 0, 0, 1, 1, 0, 0, 0, 1, 0, 1, 0, 1, 2, 0, 2, 0,\n",
       "       1, 1, 0, 0, 0, 1, 0, 0, 0, 0, 1, 0, 0, 1, 0, 0, 1, 1, 0, 1, 0, 1,\n",
       "       1, 1, 2, 0, 1, 0, 1, 1, 0, 1])"
      ]
     },
     "execution_count": 19,
     "metadata": {},
     "output_type": "execute_result"
    }
   ],
   "source": [
    "# sum by axis=1 means that we are adding up all the True's withing every row \n",
    "# numbers tell me is there is 1, 2, no 0 True's in a given row \n",
    "\n",
    "(billboards == 'data').sum(axis=1)"
   ]
  },
  {
   "cell_type": "code",
   "execution_count": 20,
   "metadata": {},
   "outputs": [
    {
     "data": {
      "text/plain": [
       "array([False, False, False, False, False, False, False, False, False,\n",
       "       False, False, False, False, False, False,  True, False, False,\n",
       "       False, False, False, False,  True, False, False, False, False,\n",
       "       False, False, False, False, False, False, False, False, False,\n",
       "       False, False, False,  True, False, False, False, False, False,\n",
       "       False, False, False, False,  True, False,  True, False, False,\n",
       "       False, False,  True, False, False, False, False, False, False,\n",
       "       False, False, False, False, False, False, False, False, False,\n",
       "       False, False, False, False, False, False, False,  True, False,\n",
       "       False, False, False, False, False, False, False, False, False,\n",
       "       False, False, False, False, False, False, False, False, False,\n",
       "       False, False, False, False, False,  True, False, False, False,\n",
       "       False, False, False, False, False, False, False,  True, False,\n",
       "       False, False, False,  True, False, False, False, False, False,\n",
       "       False, False, False,  True, False, False,  True, False, False,\n",
       "       False, False, False, False, False, False, False, False, False,\n",
       "       False, False, False, False, False, False, False, False, False,\n",
       "       False, False, False, False, False, False, False, False, False,\n",
       "       False, False, False, False, False,  True, False, False, False,\n",
       "       False, False, False,  True, False, False, False, False, False,\n",
       "       False, False, False, False, False,  True, False, False, False,\n",
       "       False, False, False, False, False, False, False, False, False,\n",
       "       False, False, False, False, False, False, False, False, False,\n",
       "       False, False, False, False, False, False, False, False, False,\n",
       "       False, False, False, False, False, False, False, False, False,\n",
       "       False, False,  True, False, False, False, False, False, False,\n",
       "       False, False, False, False, False, False, False, False, False,\n",
       "       False, False, False, False, False, False, False, False, False,\n",
       "       False, False, False, False, False, False,  True, False, False,\n",
       "       False, False, False, False, False, False,  True, False,  True,\n",
       "       False,  True, False, False, False, False, False, False,  True,\n",
       "       False, False, False, False, False, False,  True, False, False,\n",
       "       False, False, False, False,  True, False, False, False, False,\n",
       "       False, False, False,  True,  True, False, False, False, False,\n",
       "       False, False, False, False, False, False, False, False, False,\n",
       "       False, False, False, False, False, False, False, False, False,\n",
       "        True, False, False, False, False, False, False, False, False,\n",
       "       False, False, False, False, False, False, False, False, False,\n",
       "       False, False, False, False, False, False, False, False, False,\n",
       "       False, False, False, False, False, False,  True, False, False,\n",
       "       False, False, False, False, False, False, False, False, False,\n",
       "       False, False, False, False, False, False, False,  True, False,\n",
       "       False, False, False, False, False, False, False, False, False,\n",
       "       False, False, False,  True, False, False, False, False, False,\n",
       "       False, False, False, False,  True, False, False, False, False,\n",
       "       False, False, False, False,  True, False, False, False,  True,\n",
       "       False, False, False, False, False, False, False, False, False,\n",
       "       False, False, False, False, False, False, False, False, False,\n",
       "       False, False, False, False, False, False, False, False, False,\n",
       "       False, False, False, False, False, False, False,  True, False,\n",
       "       False, False, False, False, False, False, False,  True,  True,\n",
       "       False, False, False, False, False, False, False, False, False,\n",
       "       False, False, False, False, False, False, False, False, False,\n",
       "       False, False, False, False, False, False, False, False, False,\n",
       "       False, False, False, False, False, False, False, False, False,\n",
       "       False, False, False, False,  True, False, False, False, False,\n",
       "       False, False, False, False, False, False, False, False, False,\n",
       "       False, False, False, False, False, False, False, False, False,\n",
       "       False, False, False, False, False, False, False, False, False,\n",
       "       False, False, False, False, False, False,  True, False, False,\n",
       "       False,  True, False, False, False, False, False, False, False,\n",
       "       False, False, False, False, False, False, False, False, False,\n",
       "       False, False, False, False, False, False, False, False, False,\n",
       "       False, False, False, False, False, False,  True, False, False,\n",
       "       False, False, False, False, False, False, False, False, False,\n",
       "       False, False, False, False, False, False, False, False, False,\n",
       "       False, False,  True, False, False, False, False, False, False,\n",
       "       False, False, False, False, False, False, False, False, False,\n",
       "       False, False, False, False, False, False, False, False, False,\n",
       "       False, False, False, False, False, False, False, False, False,\n",
       "       False, False, False, False, False, False, False, False, False,\n",
       "       False, False,  True, False, False, False, False,  True, False,\n",
       "       False, False, False, False, False, False, False, False, False,\n",
       "       False, False, False,  True, False, False,  True, False, False,\n",
       "       False, False, False, False, False,  True, False, False, False,\n",
       "       False, False, False, False, False, False, False, False, False,\n",
       "       False, False, False, False, False, False, False, False, False,\n",
       "       False, False, False, False, False, False, False, False, False,\n",
       "       False, False, False, False, False, False,  True, False, False,\n",
       "       False, False, False,  True,  True, False, False, False, False,\n",
       "       False, False, False, False, False, False, False, False,  True,\n",
       "       False, False, False, False, False, False, False, False, False,\n",
       "       False, False, False, False, False, False, False, False, False,\n",
       "       False, False, False, False, False, False,  True, False, False,\n",
       "       False, False, False, False, False,  True, False, False, False,\n",
       "       False, False,  True, False, False, False, False, False, False,\n",
       "       False, False, False, False, False, False, False, False, False,\n",
       "       False, False, False, False, False, False, False, False, False,\n",
       "       False,  True, False, False, False, False, False, False, False,\n",
       "       False, False, False, False, False, False, False,  True, False,\n",
       "       False, False, False, False, False, False, False, False, False,\n",
       "        True, False,  True, False, False, False, False, False, False,\n",
       "       False, False, False, False, False, False, False, False, False,\n",
       "       False, False, False,  True, False, False, False, False, False,\n",
       "       False, False, False, False, False, False, False, False, False,\n",
       "       False, False,  True, False, False, False, False, False, False,\n",
       "       False, False, False, False, False,  True,  True, False, False,\n",
       "       False, False, False, False, False, False, False, False, False,\n",
       "       False, False, False, False, False, False, False, False, False,\n",
       "       False, False, False, False,  True, False, False, False, False,\n",
       "       False, False,  True, False, False, False, False, False, False,\n",
       "       False, False, False, False, False, False, False, False, False,\n",
       "       False, False, False, False, False, False,  True, False, False,\n",
       "       False, False, False, False, False, False, False, False, False,\n",
       "       False, False,  True, False,  True, False, False, False, False,\n",
       "       False, False, False, False, False, False, False, False, False,\n",
       "       False, False, False, False, False, False, False, False, False,\n",
       "       False,  True, False,  True, False, False, False, False, False,\n",
       "       False, False, False, False, False, False, False, False, False,\n",
       "       False, False, False, False, False, False, False, False, False,\n",
       "       False, False,  True, False, False, False, False, False, False,\n",
       "       False])"
      ]
     },
     "execution_count": 20,
     "metadata": {},
     "output_type": "execute_result"
    }
   ],
   "source": [
    "# set the new array equal to 2 because we only want rows with two True's \n",
    "# returns an array of bool values because of the == operator \n",
    "\n",
    "(billboards == 'data').sum(axis=1) == 2"
   ]
  },
  {
   "cell_type": "code",
   "execution_count": 21,
   "metadata": {},
   "outputs": [
    {
     "data": {
      "text/plain": [
       "68"
      ]
     },
     "execution_count": 21,
     "metadata": {},
     "output_type": "execute_result"
    }
   ],
   "source": [
    "# here I counted all the rows with two True values giving me the total number of rows \n",
    "\n",
    "((billboards == 'data').sum(axis=1) == 2).sum()"
   ]
  },
  {
   "cell_type": "code",
   "execution_count": 22,
   "metadata": {},
   "outputs": [],
   "source": [
    "# created a variable to hold the sum of rows with two True values \n",
    "\n",
    "data_billboard = ((billboards == 'data').sum(axis=1) == 2).sum()"
   ]
  },
  {
   "cell_type": "code",
   "execution_count": 23,
   "metadata": {},
   "outputs": [
    {
     "data": {
      "text/plain": [
       "0.068"
      ]
     },
     "execution_count": 23,
     "metadata": {},
     "output_type": "execute_result"
    }
   ],
   "source": [
    "# devided the number of rows with two True values with the total number of rows \n",
    "\n",
    "data_billboard / len(billboards)\n",
    "\n",
    "# 068"
   ]
  },
  {
   "cell_type": "markdown",
   "metadata": {},
   "source": [
    "# Question 4 \n",
    "\n",
    "### Codeup students buy, on average, 3 poptart packages with a standard deviation of 1.5 a day from the snack vending machine. \n",
    "\n",
    "### If on monday the machine is restocked with 17 poptart packages, how likely is it that I will be able to buy some poptarts on Friday afternoon? \n",
    "\n",
    "### (Remember, if you have mean and standard deviation, use the np.random.normal) You'll need to make a judgement call on how to handle some of your values\n",
    "\n"
   ]
  },
  {
   "cell_type": "code",
   "execution_count": 164,
   "metadata": {},
   "outputs": [],
   "source": [
    "# define the values \n",
    "\n",
    "pop_trials = 17\n",
    "pop_sim = 100_000"
   ]
  },
  {
   "cell_type": "code",
   "execution_count": 165,
   "metadata": {},
   "outputs": [
    {
     "data": {
      "text/html": [
       "<div>\n",
       "<style scoped>\n",
       "    .dataframe tbody tr th:only-of-type {\n",
       "        vertical-align: middle;\n",
       "    }\n",
       "\n",
       "    .dataframe tbody tr th {\n",
       "        vertical-align: top;\n",
       "    }\n",
       "\n",
       "    .dataframe thead th {\n",
       "        text-align: right;\n",
       "    }\n",
       "</style>\n",
       "<table border=\"1\" class=\"dataframe\">\n",
       "  <thead>\n",
       "    <tr style=\"text-align: right;\">\n",
       "      <th></th>\n",
       "      <th>0</th>\n",
       "      <th>1</th>\n",
       "      <th>2</th>\n",
       "      <th>3</th>\n",
       "      <th>4</th>\n",
       "    </tr>\n",
       "  </thead>\n",
       "  <tbody>\n",
       "    <tr>\n",
       "      <th>0</th>\n",
       "      <td>2.500011</td>\n",
       "      <td>2.147209</td>\n",
       "      <td>5.652219</td>\n",
       "      <td>2.060233</td>\n",
       "      <td>3.280385</td>\n",
       "    </tr>\n",
       "    <tr>\n",
       "      <th>1</th>\n",
       "      <td>1.774162</td>\n",
       "      <td>1.330736</td>\n",
       "      <td>1.609993</td>\n",
       "      <td>3.628218</td>\n",
       "      <td>1.881727</td>\n",
       "    </tr>\n",
       "    <tr>\n",
       "      <th>2</th>\n",
       "      <td>4.326445</td>\n",
       "      <td>6.219167</td>\n",
       "      <td>2.395013</td>\n",
       "      <td>2.750595</td>\n",
       "      <td>3.800292</td>\n",
       "    </tr>\n",
       "    <tr>\n",
       "      <th>3</th>\n",
       "      <td>2.101692</td>\n",
       "      <td>3.201952</td>\n",
       "      <td>4.699837</td>\n",
       "      <td>1.599973</td>\n",
       "      <td>2.498376</td>\n",
       "    </tr>\n",
       "    <tr>\n",
       "      <th>4</th>\n",
       "      <td>1.803430</td>\n",
       "      <td>2.280879</td>\n",
       "      <td>1.815490</td>\n",
       "      <td>2.556299</td>\n",
       "      <td>2.298302</td>\n",
       "    </tr>\n",
       "    <tr>\n",
       "      <th>...</th>\n",
       "      <td>...</td>\n",
       "      <td>...</td>\n",
       "      <td>...</td>\n",
       "      <td>...</td>\n",
       "      <td>...</td>\n",
       "    </tr>\n",
       "    <tr>\n",
       "      <th>99995</th>\n",
       "      <td>2.723913</td>\n",
       "      <td>2.826506</td>\n",
       "      <td>1.945079</td>\n",
       "      <td>2.088096</td>\n",
       "      <td>2.463358</td>\n",
       "    </tr>\n",
       "    <tr>\n",
       "      <th>99996</th>\n",
       "      <td>1.295745</td>\n",
       "      <td>2.202109</td>\n",
       "      <td>2.889549</td>\n",
       "      <td>4.711846</td>\n",
       "      <td>3.964435</td>\n",
       "    </tr>\n",
       "    <tr>\n",
       "      <th>99997</th>\n",
       "      <td>4.915285</td>\n",
       "      <td>3.354195</td>\n",
       "      <td>3.025072</td>\n",
       "      <td>3.656726</td>\n",
       "      <td>2.414492</td>\n",
       "    </tr>\n",
       "    <tr>\n",
       "      <th>99998</th>\n",
       "      <td>1.793283</td>\n",
       "      <td>4.518604</td>\n",
       "      <td>2.784162</td>\n",
       "      <td>-0.074645</td>\n",
       "      <td>4.808703</td>\n",
       "    </tr>\n",
       "    <tr>\n",
       "      <th>99999</th>\n",
       "      <td>3.301107</td>\n",
       "      <td>1.134858</td>\n",
       "      <td>0.741575</td>\n",
       "      <td>4.289477</td>\n",
       "      <td>2.128366</td>\n",
       "    </tr>\n",
       "  </tbody>\n",
       "</table>\n",
       "<p>100000 rows × 5 columns</p>\n",
       "</div>"
      ],
      "text/plain": [
       "              0         1         2         3         4\n",
       "0      2.500011  2.147209  5.652219  2.060233  3.280385\n",
       "1      1.774162  1.330736  1.609993  3.628218  1.881727\n",
       "2      4.326445  6.219167  2.395013  2.750595  3.800292\n",
       "3      2.101692  3.201952  4.699837  1.599973  2.498376\n",
       "4      1.803430  2.280879  1.815490  2.556299  2.298302\n",
       "...         ...       ...       ...       ...       ...\n",
       "99995  2.723913  2.826506  1.945079  2.088096  2.463358\n",
       "99996  1.295745  2.202109  2.889549  4.711846  3.964435\n",
       "99997  4.915285  3.354195  3.025072  3.656726  2.414492\n",
       "99998  1.793283  4.518604  2.784162 -0.074645  4.808703\n",
       "99999  3.301107  1.134858  0.741575  4.289477  2.128366\n",
       "\n",
       "[100000 rows x 5 columns]"
      ]
     },
     "execution_count": 165,
     "metadata": {},
     "output_type": "execute_result"
    }
   ],
   "source": [
    "# we have mean and standard deviation within the np.random.normal function\n",
    "# use pd.dataframe to make the information tabular and in order to add my number of simulations and days of the trial \n",
    "# pandas dataframe need data (np.random.normal), size for number of rows and columns \n",
    "\n",
    "pd.DataFrame(np.random.normal(3,1.5, size = (pop_sim, 5)))"
   ]
  },
  {
   "cell_type": "code",
   "execution_count": 166,
   "metadata": {},
   "outputs": [
    {
     "data": {
      "text/plain": [
       "array([[2.39566639, 2.75333732, 2.31324852, 2.18164238, 5.08999979],\n",
       "       [4.48850424, 0.47782536, 6.13935077, 1.4237205 , 3.30842782],\n",
       "       [5.74044021, 3.37225581, 1.28953167, 2.79482663, 6.21001178],\n",
       "       ...,\n",
       "       [1.91032513, 4.16177296, 3.95279897, 2.55314913, 1.95712209],\n",
       "       [2.93339833, 3.77468701, 1.98375477, 2.32441756, 4.32332693],\n",
       "       [5.49714197, 5.13557071, 4.81729552, 3.00470023, 1.69734268]])"
      ]
     },
     "execution_count": 166,
     "metadata": {},
     "output_type": "execute_result"
    }
   ],
   "source": [
    "np.random.normal(3,1.5, size = (pop_sim, 5))"
   ]
  },
  {
   "cell_type": "code",
   "execution_count": 167,
   "metadata": {},
   "outputs": [],
   "source": [
    "# created a variable to hold my dataframe \n",
    "sold_pop = pd.DataFrame(np.random.normal(3,1.5, size = (pop_sim, 5)))"
   ]
  },
  {
   "cell_type": "code",
   "execution_count": 168,
   "metadata": {},
   "outputs": [
    {
     "data": {
      "text/plain": [
       "0        16.613383\n",
       "1        12.608046\n",
       "2        15.232109\n",
       "3        16.559992\n",
       "4        19.009064\n",
       "           ...    \n",
       "99995    15.392697\n",
       "99996    12.861073\n",
       "99997    11.597538\n",
       "99998    16.710561\n",
       "99999    13.923845\n",
       "Length: 100000, dtype: float64"
      ]
     },
     "execution_count": 168,
     "metadata": {},
     "output_type": "execute_result"
    }
   ],
   "source": [
    "# sum every row within the simulation \n",
    "sold_pop.sum(axis=1)"
   ]
  },
  {
   "cell_type": "code",
   "execution_count": 169,
   "metadata": {},
   "outputs": [
    {
     "data": {
      "text/plain": [
       "0        False\n",
       "1         True\n",
       "2         True\n",
       "3        False\n",
       "4        False\n",
       "         ...  \n",
       "99995     True\n",
       "99996     True\n",
       "99997     True\n",
       "99998    False\n",
       "99999     True\n",
       "Length: 100000, dtype: bool"
      ]
     },
     "execution_count": 169,
     "metadata": {},
     "output_type": "execute_result"
    }
   ],
   "source": [
    "sold_pop.sum(axis=1) < 16"
   ]
  },
  {
   "cell_type": "code",
   "execution_count": 170,
   "metadata": {},
   "outputs": [
    {
     "data": {
      "text/plain": [
       "0.61698"
      ]
     },
     "execution_count": 170,
     "metadata": {},
     "output_type": "execute_result"
    }
   ],
   "source": [
    "(sold_pop.sum(axis=1) < 16).mean()"
   ]
  },
  {
   "cell_type": "markdown",
   "metadata": {},
   "source": [
    "# Question 5\n",
    "\n",
    "### Men have an average height of 178 cm and standard deviation of 8cm.\n",
    "### Women have a mean of 170, sd = 6cm.\n",
    "### Since you have means and standard deviations, you can use np.random.normal to generate observations.\n",
    "### If a man and woman are chosen at random, what is the likelihood the woman is taller than the man?"
   ]
  },
  {
   "cell_type": "code",
   "execution_count": 172,
   "metadata": {},
   "outputs": [],
   "source": [
    "hight_sim = 100_000\n",
    "men_hight = np.random.normal(178, 8, hight_sim)\n",
    "woman_hight = np.random.normal(170, 6, hight_sim)"
   ]
  },
  {
   "cell_type": "code",
   "execution_count": 173,
   "metadata": {},
   "outputs": [
    {
     "data": {
      "text/plain": [
       "0.21062"
      ]
     },
     "execution_count": 173,
     "metadata": {},
     "output_type": "execute_result"
    }
   ],
   "source": [
    "(woman_hight > men_hight).sum()\n",
    "(woman_hight > men_hight).sum() / len(woman_hight)\n",
    "\n",
    "# or \n",
    "\n",
    "(woman_hight > men_hight).mean()"
   ]
  },
  {
   "cell_type": "markdown",
   "metadata": {},
   "source": [
    "# Question 6 \n",
    "\n",
    "### When installing anaconda on a student's computer, there's a 1 in 250 chance that the download is corrupted and the installation fails. \n",
    "\n",
    "### What are the odds that after having 50 students download anaconda, no one has an installation issue? 100 students?\n",
    "\n"
   ]
  },
  {
   "cell_type": "code",
   "execution_count": 5,
   "metadata": {},
   "outputs": [],
   "source": [
    "# lets calculate our event space:\n",
    "prob_event_fails = 1/250\n",
    "n_trials = 50 #(number of students installing in this classroom)\n",
    "install_simulations = np.random.random((n_simulations, n_trials))"
   ]
  },
  {
   "cell_type": "code",
   "execution_count": 6,
   "metadata": {},
   "outputs": [],
   "source": [
    "# way b:\n",
    "outcomes = ['successful_install', 'failed_install']\n",
    "install_simulations_choice = np.random.choice(\n",
    "    outcomes,\n",
    "    size=(n_simulations, n_trials),\n",
    "    p=((1-(1/250), (1/250))))"
   ]
  },
  {
   "cell_type": "code",
   "execution_count": 7,
   "metadata": {},
   "outputs": [
    {
     "data": {
      "text/plain": [
       "array([[False, False, False, ..., False, False, False],\n",
       "       [False, False, False, ..., False, False, False],\n",
       "       [False, False, False, ..., False, False, False],\n",
       "       ...,\n",
       "       [False, False, False, ..., False, False, False],\n",
       "       [False, False, False, ..., False, False, False],\n",
       "       [False, False, False, ..., False, False, False]])"
      ]
     },
     "execution_count": 7,
     "metadata": {},
     "output_type": "execute_result"
    }
   ],
   "source": [
    "# run the rest of the problem with method a:\n",
    "# compare our installs with our corrupted install threshold\n",
    "(install_simulations < prob_event_fails)"
   ]
  },
  {
   "cell_type": "code",
   "execution_count": 8,
   "metadata": {},
   "outputs": [
    {
     "data": {
      "text/plain": [
       "0.81942"
      ]
     },
     "execution_count": 8,
     "metadata": {},
     "output_type": "execute_result"
    }
   ],
   "source": [
    "# across everything in each simulation, if all 50 are False, (0), then I had all clean installs\n",
    "((install_simulations < prob_event_fails).sum(axis=1) == 0).mean()"
   ]
  },
  {
   "cell_type": "code",
   "execution_count": 191,
   "metadata": {},
   "outputs": [
    {
     "data": {
      "text/plain": [
       "0.06195"
      ]
     },
     "execution_count": 191,
     "metadata": {},
     "output_type": "execute_result"
    }
   ],
   "source": [
    "# for 100 students \n",
    "\n",
    "install_trial_two = 100\n",
    "install_for_one_hundred = np.random.random((install_sim, install_trial_two))\n",
    "((install_for_one_hundred < prob_issue).sum(axis=1) > 1).mean()"
   ]
  },
  {
   "cell_type": "markdown",
   "metadata": {},
   "source": [
    "### What is the probability that we observe an installation issue within the first 150 students that download anaconda?\n",
    "\n"
   ]
  },
  {
   "cell_type": "code",
   "execution_count": 9,
   "metadata": {},
   "outputs": [
    {
     "data": {
      "text/plain": [
       "0.45059"
      ]
     },
     "execution_count": 9,
     "metadata": {},
     "output_type": "execute_result"
    }
   ],
   "source": [
    "prob_event_fails = 1/250\n",
    "n_trials = 150 #(number of students installing in this classroom)\n",
    "install_simulations = np.random.random((n_simulations, n_trials))\n",
    "# this time, see how many we have succesful across 150 students\n",
    "# the average of at least one failed install (over 0)\n",
    "((install_simulations < prob_event_fails).sum(axis=1) > 0).mean()"
   ]
  },
  {
   "cell_type": "markdown",
   "metadata": {},
   "source": [
    "### How likely is it that 450 students all download anaconda without an issue?\n",
    "\n"
   ]
  },
  {
   "cell_type": "code",
   "execution_count": 10,
   "metadata": {},
   "outputs": [
    {
     "data": {
      "text/plain": [
       "0.16523"
      ]
     },
     "execution_count": 10,
     "metadata": {},
     "output_type": "execute_result"
    }
   ],
   "source": [
    "prob_event_fails = 1/250\n",
    "n_trials = 450 #(number of students installing in this classroom)\n",
    "install_simulations = np.random.random((n_simulations, n_trials))\n",
    "# this time, see how many we have succesful across 150 students\n",
    "# the average of at least one failed install (over 0)\n",
    "((install_simulations < prob_event_fails).sum(axis=1) == 0).mean()"
   ]
  },
  {
   "cell_type": "code",
   "execution_count": 88,
   "metadata": {},
   "outputs": [
    {
     "data": {
      "text/plain": [
       "0.177"
      ]
     },
     "execution_count": 88,
     "metadata": {},
     "output_type": "execute_result"
    }
   ],
   "source": [
    "no_issue = np.random.random((install_sim, install_trial_four))\n",
    "students_no_issue = no_issue < prob_issue\n",
    "clean_install = (students_no_issue.sum(axis=1) == 0).sum()\n",
    "clean_install / len(students_no_issue)"
   ]
  },
  {
   "cell_type": "markdown",
   "metadata": {},
   "source": [
    "# Question 7\n",
    "\n",
    "### There's a 70% chance on any given day that there will be at least one food truck at Travis Park. \n",
    "\n",
    "### However, you haven't seen a food truck there in 3 days. How unlikely is this?\n",
    "\n"
   ]
  },
  {
   "cell_type": "code",
   "execution_count": 99,
   "metadata": {},
   "outputs": [],
   "source": [
    "prob_no_show = .7\n",
    "n_days = 3\n",
    "n_sim = 100_000"
   ]
  },
  {
   "cell_type": "code",
   "execution_count": 192,
   "metadata": {},
   "outputs": [
    {
     "data": {
      "text/plain": [
       "0.02738"
      ]
     },
     "execution_count": 192,
     "metadata": {},
     "output_type": "execute_result"
    }
   ],
   "source": [
    "food_truck = np.random.random((n_sim, n_days))\n",
    "no_show = ((food_truck < prob_no_show).sum(axis=1) == 0).mean()\n",
    "no_show "
   ]
  },
  {
   "cell_type": "markdown",
   "metadata": {},
   "source": [
    "### How likely is it that a food truck will show up sometime this week?\n",
    "\n"
   ]
  },
  {
   "cell_type": "code",
   "execution_count": 109,
   "metadata": {},
   "outputs": [
    {
     "data": {
      "text/plain": [
       "0.34095"
      ]
     },
     "execution_count": 109,
     "metadata": {},
     "output_type": "execute_result"
    }
   ],
   "source": [
    "prob_no_show = .7\n",
    "n_days_cont = 7\n",
    "n_sim = 100_000\n",
    "\n",
    "food_truck = np.random.random((n_sim, n_days_cont))\n",
    "will_show = ((food_truck >= prob_no_show).sum(axis=1) >= 1).mean()\n",
    "no_show "
   ]
  },
  {
   "cell_type": "markdown",
   "metadata": {},
   "source": []
  },
  {
   "cell_type": "code",
   "execution_count": null,
   "metadata": {},
   "outputs": [],
   "source": [
    "outcomes = ['truck', 'no_lunch']\n",
    "# trials are three days\n",
    "truck_simulations = np.random.choice(outcomes, \n",
    "                 size=(n_simulations, 3),\n",
    "                 p=(0.7, 0.3))"
   ]
  },
  {
   "cell_type": "markdown",
   "metadata": {},
   "source": [
    "# Question 8 \n",
    "\n",
    "### If 23 people are in the same room, what are the odds that two of them share a birthday? What if it's 20 people? 40?\n",
    "\n"
   ]
  },
  {
   "cell_type": "code",
   "execution_count": null,
   "metadata": {},
   "outputs": [],
   "source": [
    "1/3"
   ]
  },
  {
   "cell_type": "code",
   "execution_count": 12,
   "metadata": {},
   "outputs": [],
   "source": [
    "# lets simulate 40 birthdays!\n",
    "# so lets create a selection based on a range of values, since there are 365\n",
    "# possible birthday choices for each person and we want them to be specific values\n",
    "n_trials = 23\n",
    "birthday_sims = np.random.choice(range(365),size=(n_simulations, n_trials))"
   ]
  },
  {
   "cell_type": "code",
   "execution_count": 14,
   "metadata": {},
   "outputs": [
    {
     "data": {
      "text/plain": [
       "array([[271, 160, 183, ...,  97,  92, 159],\n",
       "       [302,  81, 179, ..., 235, 303,  85],\n",
       "       [ 99, 136, 237, ..., 207,  61, 217],\n",
       "       ...,\n",
       "       [159,  12, 104, ..., 237,  73, 222],\n",
       "       [120, 216, 271, ..., 218,  63,  73],\n",
       "       [258, 346, 184, ..., 294, 196, 313]])"
      ]
     },
     "execution_count": 14,
     "metadata": {},
     "output_type": "execute_result"
    }
   ],
   "source": [
    "birthday_sims"
   ]
  },
  {
   "cell_type": "code",
   "execution_count": 16,
   "metadata": {},
   "outputs": [
    {
     "data": {
      "text/html": [
       "<div>\n",
       "<style scoped>\n",
       "    .dataframe tbody tr th:only-of-type {\n",
       "        vertical-align: middle;\n",
       "    }\n",
       "\n",
       "    .dataframe tbody tr th {\n",
       "        vertical-align: top;\n",
       "    }\n",
       "\n",
       "    .dataframe thead th {\n",
       "        text-align: right;\n",
       "    }\n",
       "</style>\n",
       "<table border=\"1\" class=\"dataframe\">\n",
       "  <thead>\n",
       "    <tr style=\"text-align: right;\">\n",
       "      <th></th>\n",
       "      <th>0</th>\n",
       "      <th>1</th>\n",
       "      <th>2</th>\n",
       "      <th>3</th>\n",
       "      <th>4</th>\n",
       "      <th>5</th>\n",
       "      <th>6</th>\n",
       "      <th>7</th>\n",
       "      <th>8</th>\n",
       "      <th>9</th>\n",
       "      <th>...</th>\n",
       "      <th>13</th>\n",
       "      <th>14</th>\n",
       "      <th>15</th>\n",
       "      <th>16</th>\n",
       "      <th>17</th>\n",
       "      <th>18</th>\n",
       "      <th>19</th>\n",
       "      <th>20</th>\n",
       "      <th>21</th>\n",
       "      <th>22</th>\n",
       "    </tr>\n",
       "  </thead>\n",
       "  <tbody>\n",
       "    <tr>\n",
       "      <th>73709</th>\n",
       "      <td>341</td>\n",
       "      <td>97</td>\n",
       "      <td>46</td>\n",
       "      <td>248</td>\n",
       "      <td>299</td>\n",
       "      <td>42</td>\n",
       "      <td>54</td>\n",
       "      <td>161</td>\n",
       "      <td>80</td>\n",
       "      <td>340</td>\n",
       "      <td>...</td>\n",
       "      <td>69</td>\n",
       "      <td>47</td>\n",
       "      <td>221</td>\n",
       "      <td>37</td>\n",
       "      <td>205</td>\n",
       "      <td>82</td>\n",
       "      <td>176</td>\n",
       "      <td>344</td>\n",
       "      <td>226</td>\n",
       "      <td>73</td>\n",
       "    </tr>\n",
       "    <tr>\n",
       "      <th>67933</th>\n",
       "      <td>110</td>\n",
       "      <td>125</td>\n",
       "      <td>39</td>\n",
       "      <td>81</td>\n",
       "      <td>217</td>\n",
       "      <td>150</td>\n",
       "      <td>70</td>\n",
       "      <td>67</td>\n",
       "      <td>243</td>\n",
       "      <td>102</td>\n",
       "      <td>...</td>\n",
       "      <td>275</td>\n",
       "      <td>177</td>\n",
       "      <td>53</td>\n",
       "      <td>61</td>\n",
       "      <td>209</td>\n",
       "      <td>15</td>\n",
       "      <td>346</td>\n",
       "      <td>265</td>\n",
       "      <td>256</td>\n",
       "      <td>148</td>\n",
       "    </tr>\n",
       "    <tr>\n",
       "      <th>99196</th>\n",
       "      <td>118</td>\n",
       "      <td>292</td>\n",
       "      <td>156</td>\n",
       "      <td>338</td>\n",
       "      <td>279</td>\n",
       "      <td>153</td>\n",
       "      <td>24</td>\n",
       "      <td>290</td>\n",
       "      <td>254</td>\n",
       "      <td>106</td>\n",
       "      <td>...</td>\n",
       "      <td>228</td>\n",
       "      <td>94</td>\n",
       "      <td>354</td>\n",
       "      <td>280</td>\n",
       "      <td>329</td>\n",
       "      <td>79</td>\n",
       "      <td>41</td>\n",
       "      <td>54</td>\n",
       "      <td>126</td>\n",
       "      <td>58</td>\n",
       "    </tr>\n",
       "  </tbody>\n",
       "</table>\n",
       "<p>3 rows × 23 columns</p>\n",
       "</div>"
      ],
      "text/plain": [
       "        0    1    2    3    4    5   6    7    8    9   ...   13   14   15  \\\n",
       "73709  341   97   46  248  299   42  54  161   80  340  ...   69   47  221   \n",
       "67933  110  125   39   81  217  150  70   67  243  102  ...  275  177   53   \n",
       "99196  118  292  156  338  279  153  24  290  254  106  ...  228   94  354   \n",
       "\n",
       "        16   17  18   19   20   21   22  \n",
       "73709   37  205  82  176  344  226   73  \n",
       "67933   61  209  15  346  265  256  148  \n",
       "99196  280  329  79   41   54  126   58  \n",
       "\n",
       "[3 rows x 23 columns]"
      ]
     },
     "execution_count": 16,
     "metadata": {},
     "output_type": "execute_result"
    }
   ],
   "source": [
    "birthday_df = pd.DataFrame(birthday_sims)\n",
    "birthday_df.sample(3)"
   ]
  },
  {
   "cell_type": "code",
   "execution_count": 19,
   "metadata": {},
   "outputs": [
    {
     "data": {
      "text/plain": [
       "0.51057"
      ]
     },
     "execution_count": 19,
     "metadata": {},
     "output_type": "execute_result"
    }
   ],
   "source": [
    "(birthday_df.nunique(axis=1) < 23).mean()"
   ]
  },
  {
   "cell_type": "code",
   "execution_count": 20,
   "metadata": {},
   "outputs": [
    {
     "data": {
      "text/plain": [
       "0.41095"
      ]
     },
     "execution_count": 20,
     "metadata": {},
     "output_type": "execute_result"
    }
   ],
   "source": [
    "n_trials = 20\n",
    "birthday_sims = np.random.choice(range(365),size=(n_simulations, n_trials))\n",
    "birthday_df = pd.DataFrame(birthday_sims)\n",
    "(birthday_df.nunique(axis=1) < n_trials).mean()"
   ]
  },
  {
   "cell_type": "code",
   "execution_count": 21,
   "metadata": {},
   "outputs": [
    {
     "data": {
      "text/plain": [
       "0.89365"
      ]
     },
     "execution_count": 21,
     "metadata": {},
     "output_type": "execute_result"
    }
   ],
   "source": [
    "n_trials = 40\n",
    "birthday_sims = np.random.choice(range(365),size=(n_simulations, n_trials))\n",
    "birthday_df = pd.DataFrame(birthday_sims)\n",
    "(birthday_df.nunique(axis=1) < n_trials).mean()"
   ]
  }
 ],
 "metadata": {
  "kernelspec": {
   "display_name": "base",
   "language": "python",
   "name": "python3"
  },
  "language_info": {
   "codemirror_mode": {
    "name": "ipython",
    "version": 3
   },
   "file_extension": ".py",
   "mimetype": "text/x-python",
   "name": "python",
   "nbconvert_exporter": "python",
   "pygments_lexer": "ipython3",
   "version": "3.10.9"
  },
  "orig_nbformat": 4
 },
 "nbformat": 4,
 "nbformat_minor": 2
}

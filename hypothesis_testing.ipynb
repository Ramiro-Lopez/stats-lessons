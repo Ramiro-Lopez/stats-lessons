{
 "cells": [
  {
   "cell_type": "markdown",
   "metadata": {},
   "source": [
    "For each of the following questions, formulate a null and alternative hypothesis (be as specific as you can be), \n",
    "\n",
    "then give an example of what a true positive, true negative, type I and type II errors would look like. \n",
    "\n",
    "Note that some of the questions are intentionally phrased in a vague way. \n",
    "\n",
    "It is your job to reword these as more precise questions that could be tested.\n",
    "\n"
   ]
  },
  {
   "cell_type": "markdown",
   "metadata": {},
   "source": [
    "##### Has the network latency gone up since we switched internet service providers?\n",
    "\n",
    "null hypothisis - network latency has remained the same since the switch \n",
    "alternative hypotisis - new internet service provider is faster \n",
    "\n",
    "true positive (Null is false and we reject the null)\n",
    "\n",
    "    - conclude the network is faster \n",
    "\n",
    "    - the network was always going to be faster  \n",
    "\n",
    "true nagative (Null is true and we accept it)\n",
    "\n",
    "    - conclude there is no change in the network \n",
    "\n",
    "    - we thought there would be no chnage  (Null is true and we accept it)\n",
    "\n",
    "type 1 error (Null is true and we reject the null)\n",
    "\n",
    "    - conclude the network is the same  \n",
    "    \n",
    "    - thought the network speed would be faster  \n",
    "\n",
    "type 2 error (Null is false and we acept the null)\n",
    "    \n",
    "    - conclude the network remained the same \n",
    "    \n",
    "    - always thought the network would stay the same  "
   ]
  },
  {
   "cell_type": "markdown",
   "metadata": {},
   "source": [
    "##### Is the website redesign any good?\n",
    "\n",
    "null hypothisis - the website redesine is not good \n",
    "\n",
    "alternative hypothisis - the webside redesine is great\n",
    "\n",
    "True positive (Null is false and we reject the null)\n",
    "    \n",
    "    - website redsign is great \n",
    "    \n",
    "    - website redesign was always going to be great \n",
    "\n",
    "true nagative (Null is true and we accept it)\n",
    "    \n",
    "    - websight redesign is not good \n",
    "    \n",
    "    - we always knew the website redesign was not going to be good  \n",
    "\n",
    "type 1 error (Null is true and we reject the null)\n",
    "    \n",
    "    - websight redesign is not good \n",
    "    \n",
    "    - website redesign was suposed to be great \n",
    "\n",
    "type 2 error (Null is false and we acept the null)\n",
    "    \n",
    "    - websight redesign is great \n",
    "    \n",
    "    - thought websight redesign was going to be bad\n",
    "\n"
   ]
  },
  {
   "cell_type": "markdown",
   "metadata": {},
   "source": [
    "##### Is our television ad driving more sales?\n",
    "\n",
    "\n",
    "null hypothisis - tv ad is not driving sales\n",
    "\n",
    "alternative hypothisis - our tv ad is driving 4x the sales\n",
    "\n",
    "True positive (Null is false and we reject the null)\n",
    "    \n",
    "    - ad is driving sales\n",
    "    \n",
    "    - always knew it would drive sales \n",
    "\n",
    "true nagative (Null is true and we accept it)\n",
    "    \n",
    "    - ad is not driving sales\n",
    "    \n",
    "    - we always knew the ad would not drive sales \n",
    "\n",
    "type 1 error (Null is true and we reject the null)\n",
    "    \n",
    "    - ad is not driving sales \n",
    "    \n",
    "    - thought the ad would drive sales \n",
    "\n",
    "type 2 error (Null is false and we acept the null)\n",
    "    \n",
    "    - ad is driving sales \n",
    "    \n",
    "    - thought the ad would not drive sales "
   ]
  },
  {
   "cell_type": "markdown",
   "metadata": {},
   "source": [
    "# Question 1 \n",
    "\n",
    "### Answer with the type of stats test you would use (assume normal distribution):\n",
    "\n"
   ]
  },
  {
   "cell_type": "markdown",
   "metadata": {},
   "source": [
    "Is there a relationship between the length of your arm and the length of your foot?\n",
    "\n",
    "    -would use a Correlation test because we want check to see if arm lenght is realated to foot lenght.   \n"
   ]
  },
  {
   "cell_type": "markdown",
   "metadata": {},
   "source": [
    "Does smoking affect when or not someone has lung cancer?\n",
    "    \n",
    "    - Non-parametric test because both predictive and outcome variables are categorial \n"
   ]
  },
  {
   "cell_type": "markdown",
   "metadata": {},
   "source": [
    "Is gender independent of a person’s blood type?\n",
    "\n",
    "    - use logistic regression test, comparison of means test, or T test \n"
   ]
  },
  {
   "cell_type": "markdown",
   "metadata": {},
   "source": [
    "Does whether or not a person has a cat or dog affect whether they live in an apartment?\n",
    "    \n",
    "    - comparison of means test \n"
   ]
  },
  {
   "cell_type": "markdown",
   "metadata": {},
   "source": [
    "Does the length of time of the lecture correlate with a student's grade?\n",
    "\n",
    "    - would use a Correlation test   \n",
    "\n"
   ]
  },
  {
   "cell_type": "code",
   "execution_count": 2,
   "metadata": {},
   "outputs": [],
   "source": [
    "import pandas as pd\n",
    "import matplotlib.pyplot as plt\n",
    "import numpy as np\n",
    "from scipy import stats\n",
    "from pydataset import data\n",
    "import seaborn as sns\n"
   ]
  },
  {
   "cell_type": "markdown",
   "metadata": {},
   "source": [
    "# Question 2\n",
    "\n",
    "### Use the telco_churn data."
   ]
  },
  {
   "cell_type": "code",
   "execution_count": 4,
   "metadata": {},
   "outputs": [
    {
     "ename": "ValueError",
     "evalue": "'telco' is not one of the example datasets.",
     "output_type": "error",
     "traceback": [
      "\u001b[0;31m---------------------------------------------------------------------------\u001b[0m",
      "\u001b[0;31mValueError\u001b[0m                                Traceback (most recent call last)",
      "Cell \u001b[0;32mIn[4], line 1\u001b[0m\n\u001b[0;32m----> 1\u001b[0m telco_churn \u001b[39m=\u001b[39m sns\u001b[39m.\u001b[39;49mload_dataset(\u001b[39m'\u001b[39;49m\u001b[39mtelco\u001b[39;49m\u001b[39m'\u001b[39;49m)\n",
      "File \u001b[0;32m~/anaconda3/lib/python3.10/site-packages/seaborn/utils.py:587\u001b[0m, in \u001b[0;36mload_dataset\u001b[0;34m(name, cache, data_home, **kws)\u001b[0m\n\u001b[1;32m    585\u001b[0m \u001b[39mif\u001b[39;00m \u001b[39mnot\u001b[39;00m os\u001b[39m.\u001b[39mpath\u001b[39m.\u001b[39mexists(cache_path):\n\u001b[1;32m    586\u001b[0m     \u001b[39mif\u001b[39;00m name \u001b[39mnot\u001b[39;00m \u001b[39min\u001b[39;00m get_dataset_names():\n\u001b[0;32m--> 587\u001b[0m         \u001b[39mraise\u001b[39;00m \u001b[39mValueError\u001b[39;00m(\u001b[39mf\u001b[39m\u001b[39m\"\u001b[39m\u001b[39m'\u001b[39m\u001b[39m{\u001b[39;00mname\u001b[39m}\u001b[39;00m\u001b[39m'\u001b[39m\u001b[39m is not one of the example datasets.\u001b[39m\u001b[39m\"\u001b[39m)\n\u001b[1;32m    588\u001b[0m     urlretrieve(url, cache_path)\n\u001b[1;32m    589\u001b[0m full_path \u001b[39m=\u001b[39m cache_path\n",
      "\u001b[0;31mValueError\u001b[0m: 'telco' is not one of the example datasets."
     ]
    }
   ],
   "source": [
    "telco_churn = sns.load_dataset('telco')\n"
   ]
  }
 ],
 "metadata": {
  "kernelspec": {
   "display_name": "base",
   "language": "python",
   "name": "python3"
  },
  "language_info": {
   "codemirror_mode": {
    "name": "ipython",
    "version": 3
   },
   "file_extension": ".py",
   "mimetype": "text/x-python",
   "name": "python",
   "nbconvert_exporter": "python",
   "pygments_lexer": "ipython3",
   "version": "3.10.9"
  },
  "orig_nbformat": 4
 },
 "nbformat": 4,
 "nbformat_minor": 2
}

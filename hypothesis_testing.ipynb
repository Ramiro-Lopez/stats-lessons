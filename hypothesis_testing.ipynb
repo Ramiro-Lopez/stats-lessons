{
 "cells": [
  {
   "cell_type": "markdown",
   "metadata": {},
   "source": [
    "For each of the following questions, formulate a null and alternative hypothesis (be as specific as you can be), \n",
    "\n",
    "then give an example of what a true positive, true negative, type I and type II errors would look like. \n",
    "\n",
    "Note that some of the questions are intentionally phrased in a vague way. \n",
    "\n",
    "It is your job to reword these as more precise questions that could be tested.\n",
    "\n"
   ]
  },
  {
   "cell_type": "markdown",
   "metadata": {},
   "source": [
    "##### Has the network latency gone up since we switched internet service providers?\n",
    "\n",
    "null hypothisis - network latency has remained the same since the switch \n",
    "alternative hypotisis - new internet service provider is faster \n",
    "\n",
    "true positive (Null is false and we reject the null)\n",
    "\n",
    "    - conclude the network is faster \n",
    "\n",
    "    - the network was always going to be faster  \n",
    "\n",
    "true nagative (Null is true and we accept it)\n",
    "\n",
    "    - conclude there is no change in the network \n",
    "\n",
    "    - we thought there would be no chnage  (Null is true and we accept it)\n",
    "\n",
    "type 1 error (Null is true and we reject the null)\n",
    "\n",
    "    - conclude the network is the same  \n",
    "    \n",
    "    - thought the network speed would be faster  \n",
    "\n",
    "type 2 error (Null is false and we acept the null)\n",
    "    \n",
    "    - conclude the network remained the same \n",
    "    \n",
    "    - always thought the network would stay the same  "
   ]
  },
  {
   "cell_type": "markdown",
   "metadata": {},
   "source": [
    "##### Is the website redesign any good?\n",
    "\n",
    "null hypothisis - the website redesine is not good \n",
    "\n",
    "alternative hypothisis - the webside redesine is great\n",
    "\n",
    "True positive (Null is false and we reject the null)\n",
    "    \n",
    "    - website redsign is great \n",
    "    \n",
    "    - website redesign was always going to be great \n",
    "\n",
    "true nagative (Null is true and we accept it)\n",
    "    \n",
    "    - websight redesign is not good \n",
    "    \n",
    "    - we always knew the website redesign was not going to be good  \n",
    "\n",
    "type 1 error (Null is true and we reject the null)\n",
    "    \n",
    "    - websight redesign is not good \n",
    "    \n",
    "    - website redesign was suposed to be great \n",
    "\n",
    "type 2 error (Null is false and we acept the null)\n",
    "    \n",
    "    - websight redesign is great \n",
    "    \n",
    "    - thought websight redesign was going to be bad\n",
    "\n"
   ]
  },
  {
   "cell_type": "markdown",
   "metadata": {},
   "source": [
    "##### Is our television ad driving more sales?\n",
    "\n",
    "\n",
    "null hypothisis - tv ad is not driving sales\n",
    "\n",
    "alternative hypothisis - our tv ad is driving 4x the sales\n",
    "\n",
    "True positive (Null is false and we reject the null)\n",
    "    \n",
    "    - ad is driving sales\n",
    "    \n",
    "    - always knew it would drive sales \n",
    "\n",
    "true nagative (Null is true and we accept it)\n",
    "    \n",
    "    - ad is not driving sales\n",
    "    \n",
    "    - we always knew the ad would not drive sales \n",
    "\n",
    "type 1 error (Null is true and we reject the null)\n",
    "    \n",
    "    - ad is not driving sales \n",
    "    \n",
    "    - thought the ad would drive sales \n",
    "\n",
    "type 2 error (Null is false and we acept the null)\n",
    "    \n",
    "    - ad is driving sales \n",
    "    \n",
    "    - thought the ad would not drive sales "
   ]
  },
  {
   "cell_type": "markdown",
   "metadata": {},
   "source": [
    "# Question 1 \n",
    "\n",
    "### Answer with the type of stats test you would use (assume normal distribution):\n",
    "\n"
   ]
  },
  {
   "cell_type": "markdown",
   "metadata": {},
   "source": [
    "Is there a relationship between the length of your arm and the length of your foot?\n",
    "\n",
    "    - persons test or spearmans test beacuse they are two continues variables \n"
   ]
  },
  {
   "cell_type": "markdown",
   "metadata": {},
   "source": [
    "Does smoking affect when or not someone has lung cancer?\n",
    "    \n",
    "    - Non-parametric test because both predictive and outcome variables are categorial \n",
    "    chi squeared \n"
   ]
  },
  {
   "cell_type": "markdown",
   "metadata": {},
   "source": [
    "Is gender independent of a person’s blood type?\n",
    "\n",
    "    - use logistic regression test, comparison of means test, or T test \n",
    "    - chia squared \n"
   ]
  },
  {
   "cell_type": "markdown",
   "metadata": {},
   "source": [
    "Does whether or not a person has a cat or dog affect whether they live in an apartment?\n",
    "    \n",
    "    - comparison of means test \n",
    "    - chia squared \n",
    "\n"
   ]
  },
  {
   "cell_type": "markdown",
   "metadata": {},
   "source": [
    "Does the length of time of the lecture correlate with a student's grade?\n",
    "\n",
    "    - would use a Correlation test   \n",
    "    persons test\n",
    "\n"
   ]
  },
  {
   "cell_type": "code",
   "execution_count": 153,
   "metadata": {},
   "outputs": [],
   "source": [
    "import pandas as pd\n",
    "import matplotlib.pyplot as plt\n",
    "import numpy as np\n",
    "from scipy import stats\n",
    "from pydataset import data\n",
    "import seaborn as sns\n",
    "import env\n"
   ]
  },
  {
   "cell_type": "markdown",
   "metadata": {},
   "source": [
    "# Question 2\n",
    "\n",
    "### Use the telco_churn data."
   ]
  },
  {
   "cell_type": "code",
   "execution_count": 143,
   "metadata": {},
   "outputs": [],
   "source": [
    "from env import user, host, password, host\n",
    "def get_db_url(user, password, host, db):\n",
    "    url = f'mysql+pymysql://{user}:{password}@{host}/{db}'\n",
    "    return(url)"
   ]
  },
  {
   "cell_type": "code",
   "execution_count": 144,
   "metadata": {},
   "outputs": [],
   "source": [
    "telco_churn = get_db_url(env.user, env.password, env.host, 'telco_churn')\n"
   ]
  },
  {
   "cell_type": "markdown",
   "metadata": {},
   "source": [
    "### Does tenure correlate with monthly charges?"
   ]
  },
  {
   "cell_type": "code",
   "execution_count": 335,
   "metadata": {},
   "outputs": [],
   "source": [
    "# filtered the dataframe in SQL so I do not have to do much filtering in python \n",
    "\n",
    "query1 = 'select tenure, monthly_charges from customers'\n",
    "df = pd.read_sql(query1, telco_churn)\n"
   ]
  },
  {
   "cell_type": "code",
   "execution_count": 331,
   "metadata": {},
   "outputs": [],
   "source": [
    "# state your hypothisis \n",
    "    # there is no lener relationship between tenure and monthly charges \n",
    "    # there is a lener relationship between tenure and monthly charges \n",
    "\n",
    "# set your alpha \n",
    "    # 0.05 because we want to be 95 percent certen \n",
    "alpha = 0.05\n"
   ]
  },
  {
   "cell_type": "code",
   "execution_count": 332,
   "metadata": {},
   "outputs": [
    {
     "name": "stdout",
     "output_type": "stream",
     "text": [
      "<class 'pandas.core.frame.DataFrame'>\n",
      "Index: 2 entries, uses_a_macbook to does_not_use_a_macbook\n",
      "Data columns (total 2 columns):\n",
      " #   Column               Non-Null Count  Dtype\n",
      "---  ------               --------------  -----\n",
      " 0   code_up_student      2 non-null      int64\n",
      " 1   not_code_up_student  2 non-null      int64\n",
      "dtypes: int64(2)\n",
      "memory usage: 48.0+ bytes\n"
     ]
    }
   ],
   "source": [
    "# see what kind of Dtpes I am working with \n",
    "\n",
    "df.info()"
   ]
  },
  {
   "cell_type": "code",
   "execution_count": 336,
   "metadata": {},
   "outputs": [
    {
     "data": {
      "text/plain": [
       "<Axes: xlabel='tenure', ylabel='monthly_charges'>"
      ]
     },
     "execution_count": 336,
     "metadata": {},
     "output_type": "execute_result"
    },
    {
     "data": {
      "image/png": "[encoded data removed]",
      "text/plain": [
       "<Figure size 640x480 with 1 Axes>"
      ]
     },
     "metadata": {},
     "output_type": "display_data"
    }
   ],
   "source": [
    "# Can plot and view the corralation between my two variables using a scaterplot \n",
    "\n",
    "sns.regplot(x='tenure', y='monthly_charges', data = df, marker='.', line_kws={'color' : 'orange'})\n"
   ]
  },
  {
   "cell_type": "code",
   "execution_count": 337,
   "metadata": {},
   "outputs": [
    {
     "data": {
      "text/plain": [
       "<Axes: >"
      ]
     },
     "execution_count": 337,
     "metadata": {},
     "output_type": "execute_result"
    },
    {
     "data": {
      "image/png": "[encoded data removed]",
      "text/plain": [
       "<Figure size 640x480 with 1 Axes>"
      ]
     },
     "metadata": {},
     "output_type": "display_data"
    }
   ],
   "source": [
    "#visual test of distribution for monthly charges\n",
    "df.monthly_charges.hist()\n",
    "\n",
    "#visual test of distribution for tenure\n",
    "df.tenure.hist()"
   ]
  },
  {
   "cell_type": "code",
   "execution_count": 338,
   "metadata": {},
   "outputs": [],
   "source": [
    "#create a new function\n",
    "def eval_dist(r, p, α=0.05):\n",
    "    '''\n",
    "    This function takes in r, p and alpha values\n",
    "    then returns normal distribution print statement,\n",
    "    if the p value is greater than alpha.\n",
    "    Or not normal distribution print statement otherwise.\n",
    "    '''\n",
    "    if p > α:\n",
    "        return print(f\"\"\"The data is normally distributed\"\"\")\n",
    "    else:\n",
    "        return print(f\"\"\"The data is NOT normally distributed\"\"\")"
   ]
  },
  {
   "cell_type": "code",
   "execution_count": 346,
   "metadata": {},
   "outputs": [
    {
     "name": "stderr",
     "output_type": "stream",
     "text": [
      "/Users/ramirolopez/anaconda3/lib/python3.10/site-packages/scipy/stats/_morestats.py:1816: UserWarning: p-value may not be accurate for N > 5000.\n",
      "  warnings.warn(\"p-value may not be accurate for N > 5000.\")\n"
     ]
    },
    {
     "data": {
      "text/plain": [
       "(0.9208889007568359, 0.0)"
      ]
     },
     "execution_count": 346,
     "metadata": {},
     "output_type": "execute_result"
    }
   ],
   "source": [
    "# You can use a Shapiro Test to confirm normalcy\n",
    "\n",
    "r, p = stats.shapiro(df.monthly_charges)\n",
    "\n",
    "r, p\n"
   ]
  },
  {
   "cell_type": "code",
   "execution_count": 347,
   "metadata": {},
   "outputs": [
    {
     "name": "stdout",
     "output_type": "stream",
     "text": [
      "The data is NOT normally distributed\n"
     ]
    }
   ],
   "source": [
    "eval_dist(r,p)"
   ]
  },
  {
   "cell_type": "code",
   "execution_count": 344,
   "metadata": {},
   "outputs": [
    {
     "name": "stderr",
     "output_type": "stream",
     "text": [
      "/Users/ramirolopez/anaconda3/lib/python3.10/site-packages/scipy/stats/_morestats.py:1816: UserWarning: p-value may not be accurate for N > 5000.\n",
      "  warnings.warn(\"p-value may not be accurate for N > 5000.\")\n"
     ]
    },
    {
     "data": {
      "text/plain": [
       "(0.9037512540817261, 0.0)"
      ]
     },
     "execution_count": 344,
     "metadata": {},
     "output_type": "execute_result"
    }
   ],
   "source": [
    "#let's get the stats for tenure\n",
    "r2, p2 = stats.shapiro(df.tenure)\n",
    "\n",
    "#see those values\n",
    "r2, p2"
   ]
  },
  {
   "cell_type": "code",
   "execution_count": 345,
   "metadata": {},
   "outputs": [
    {
     "name": "stdout",
     "output_type": "stream",
     "text": [
      "The data is NOT normally distributed\n"
     ]
    }
   ],
   "source": [
    "eval_dist(r2, p2)"
   ]
  },
  {
   "cell_type": "code",
   "execution_count": 349,
   "metadata": {},
   "outputs": [
    {
     "data": {
      "text/plain": [
       "(0.27641678933130215, 1.0271266876409408e-123)"
      ]
     },
     "execution_count": 349,
     "metadata": {},
     "output_type": "execute_result"
    }
   ],
   "source": [
    "#Since our features are not normally distributed, use Spearman\n",
    "sr,sp = stats.spearmanr(df.tenure, df.monthly_charges)\n",
    "sr,sp"
   ]
  },
  {
   "cell_type": "code",
   "execution_count": 350,
   "metadata": {},
   "outputs": [],
   "source": [
    "def eval_Sresult(r, p, α=0.05):\n",
    "    if p < α:\n",
    "        return print(f\"\"\"Reject the null hypothesis. There is a linear correlation.\n",
    "Spearman’s r: {r:2f}\n",
    "P-value: {p}\"\"\")\n",
    "    else:\n",
    "        return print(f\"\"\"We fail to reject the null hypothesis that there is a linear correlation.\n",
    "Spearman’s r: {r:2f}\n",
    "P-value: {p}\"\"\")"
   ]
  },
  {
   "cell_type": "code",
   "execution_count": 351,
   "metadata": {},
   "outputs": [
    {
     "name": "stdout",
     "output_type": "stream",
     "text": [
      "Reject the null hypothesis. There is a linear correlation.\n",
      "Spearman’s r: 0.276417\n",
      "P-value: 1.0271266876409408e-123\n"
     ]
    }
   ],
   "source": [
    "eval_Sresult(sr,sp)"
   ]
  },
  {
   "cell_type": "markdown",
   "metadata": {},
   "source": [
    "### Total charges?\n"
   ]
  },
  {
   "cell_type": "code",
   "execution_count": null,
   "metadata": {},
   "outputs": [],
   "source": [
    "query2 = 'select tenure, total_charges from customers'\n",
    "df_t = pd.read_sql(query2, telco_churn)\n",
    "x11 = df_t.tenure\n",
    "y11 = df_t.total_charges"
   ]
  },
  {
   "cell_type": "code",
   "execution_count": null,
   "metadata": {},
   "outputs": [
    {
     "name": "stdout",
     "output_type": "stream",
     "text": [
      "<class 'pandas.core.frame.DataFrame'>\n",
      "RangeIndex: 7043 entries, 0 to 7042\n",
      "Data columns (total 2 columns):\n",
      " #   Column         Non-Null Count  Dtype \n",
      "---  ------         --------------  ----- \n",
      " 0   tenure         7043 non-null   int64 \n",
      " 1   total_charges  7043 non-null   object\n",
      "dtypes: int64(1), object(1)\n",
      "memory usage: 110.2+ KB\n"
     ]
    }
   ],
   "source": [
    "df_t.info()"
   ]
  },
  {
   "cell_type": "code",
   "execution_count": null,
   "metadata": {},
   "outputs": [
    {
     "data": {
      "text/plain": [
       "0        593.30\n",
       "1        542.40\n",
       "2        280.85\n",
       "3       1237.85\n",
       "4        267.40\n",
       "         ...   \n",
       "7038     742.90\n",
       "7039    1873.70\n",
       "7040      92.75\n",
       "7041    4627.65\n",
       "7042    3707.60\n",
       "Name: total_charges, Length: 7043, dtype: float64"
      ]
     },
     "execution_count": 128,
     "metadata": {},
     "output_type": "execute_result"
    }
   ],
   "source": [
    "df_total['total_charges'] = df_t.total_charges.str.replace(' ', '0').astype(float)"
   ]
  },
  {
   "cell_type": "code",
   "execution_count": null,
   "metadata": {},
   "outputs": [
    {
     "name": "stdout",
     "output_type": "stream",
     "text": [
      "<class 'pandas.core.frame.DataFrame'>\n",
      "RangeIndex: 7043 entries, 0 to 7042\n",
      "Data columns (total 2 columns):\n",
      " #   Column         Non-Null Count  Dtype \n",
      "---  ------         --------------  ----- \n",
      " 0   tenure         7043 non-null   int64 \n",
      " 1   total_charges  7043 non-null   object\n",
      "dtypes: int64(1), object(1)\n",
      "memory usage: 110.2+ KB\n"
     ]
    }
   ],
   "source": []
  },
  {
   "cell_type": "code",
   "execution_count": null,
   "metadata": {},
   "outputs": [
    {
     "data": {
      "text/html": [
       "<div>\n",
       "<style scoped>\n",
       "    .dataframe tbody tr th:only-of-type {\n",
       "        vertical-align: middle;\n",
       "    }\n",
       "\n",
       "    .dataframe tbody tr th {\n",
       "        vertical-align: top;\n",
       "    }\n",
       "\n",
       "    .dataframe thead th {\n",
       "        text-align: right;\n",
       "    }\n",
       "</style>\n",
       "<table border=\"1\" class=\"dataframe\">\n",
       "  <thead>\n",
       "    <tr style=\"text-align: right;\">\n",
       "      <th></th>\n",
       "      <th>tenure</th>\n",
       "      <th>total_charges</th>\n",
       "    </tr>\n",
       "  </thead>\n",
       "  <tbody>\n",
       "    <tr>\n",
       "      <th>5780</th>\n",
       "      <td>49</td>\n",
       "      <td>5166.2</td>\n",
       "    </tr>\n",
       "    <tr>\n",
       "      <th>4760</th>\n",
       "      <td>61</td>\n",
       "      <td>3244.4</td>\n",
       "    </tr>\n",
       "    <tr>\n",
       "      <th>5131</th>\n",
       "      <td>17</td>\n",
       "      <td>1563.9</td>\n",
       "    </tr>\n",
       "    <tr>\n",
       "      <th>6850</th>\n",
       "      <td>1</td>\n",
       "      <td>53.95</td>\n",
       "    </tr>\n",
       "    <tr>\n",
       "      <th>3599</th>\n",
       "      <td>11</td>\n",
       "      <td>791.75</td>\n",
       "    </tr>\n",
       "    <tr>\n",
       "      <th>816</th>\n",
       "      <td>27</td>\n",
       "      <td>2462.55</td>\n",
       "    </tr>\n",
       "    <tr>\n",
       "      <th>3815</th>\n",
       "      <td>2</td>\n",
       "      <td>105.6</td>\n",
       "    </tr>\n",
       "    <tr>\n",
       "      <th>2838</th>\n",
       "      <td>49</td>\n",
       "      <td>2398.4</td>\n",
       "    </tr>\n",
       "    <tr>\n",
       "      <th>1244</th>\n",
       "      <td>50</td>\n",
       "      <td>5071.05</td>\n",
       "    </tr>\n",
       "    <tr>\n",
       "      <th>6255</th>\n",
       "      <td>25</td>\n",
       "      <td>1837.7</td>\n",
       "    </tr>\n",
       "  </tbody>\n",
       "</table>\n",
       "</div>"
      ],
      "text/plain": [
       "      tenure total_charges\n",
       "5780      49        5166.2\n",
       "4760      61        3244.4\n",
       "5131      17        1563.9\n",
       "6850       1         53.95\n",
       "3599      11        791.75\n",
       "816       27       2462.55\n",
       "3815       2         105.6\n",
       "2838      49        2398.4\n",
       "1244      50       5071.05\n",
       "6255      25        1837.7"
      ]
     },
     "execution_count": 101,
     "metadata": {},
     "output_type": "execute_result"
    }
   ],
   "source": [
    "df_t.sample(10)"
   ]
  },
  {
   "cell_type": "code",
   "execution_count": null,
   "metadata": {},
   "outputs": [
    {
     "data": {
      "image/png": "[encoded data removed]",
      "text/plain": [
       "<Figure size 640x480 with 1 Axes>"
      ]
     },
     "metadata": {},
     "output_type": "display_data"
    }
   ],
   "source": [
    "plt.scatter(range(len(x11)), x11, s=30, c='red')\n",
    "plt.scatter(range(len(y11)), y11, s=10, c='green')\n",
    "plt.title('Tenure vs total charges')\n",
    "plt.xlabel('Tenure')\n",
    "plt.ylabel('Total Charges')\n",
    "plt.show()"
   ]
  },
  {
   "cell_type": "code",
   "execution_count": null,
   "metadata": {},
   "outputs": [
    {
     "ename": "TypeError",
     "evalue": "cannot convert the series to <class 'float'>",
     "output_type": "error",
     "traceback": [
      "\u001b[0;31m---------------------------------------------------------------------------\u001b[0m",
      "\u001b[0;31mTypeError\u001b[0m                                 Traceback (most recent call last)",
      "Cell \u001b[0;32mIn[125], line 2\u001b[0m\n\u001b[1;32m      1\u001b[0m alpha \u001b[39m=\u001b[39m \u001b[39m0.05\u001b[39m\n\u001b[0;32m----> 2\u001b[0m corr, p \u001b[39m=\u001b[39m stats\u001b[39m.\u001b[39mpearsonr(x11, \u001b[39mfloat\u001b[39;49m(y11))\n\u001b[1;32m      3\u001b[0m corr, p\n",
      "File \u001b[0;32m~/anaconda3/lib/python3.10/site-packages/pandas/core/series.py:230\u001b[0m, in \u001b[0;36m_coerce_method.<locals>.wrapper\u001b[0;34m(self)\u001b[0m\n\u001b[1;32m    222\u001b[0m     warnings\u001b[39m.\u001b[39mwarn(\n\u001b[1;32m    223\u001b[0m         \u001b[39mf\u001b[39m\u001b[39m\"\u001b[39m\u001b[39mCalling \u001b[39m\u001b[39m{\u001b[39;00mconverter\u001b[39m.\u001b[39m\u001b[39m__name__\u001b[39m\u001b[39m}\u001b[39;00m\u001b[39m on a single element Series is \u001b[39m\u001b[39m\"\u001b[39m\n\u001b[1;32m    224\u001b[0m         \u001b[39m\"\u001b[39m\u001b[39mdeprecated and will raise a TypeError in the future. \u001b[39m\u001b[39m\"\u001b[39m\n\u001b[0;32m   (...)\u001b[0m\n\u001b[1;32m    227\u001b[0m         stacklevel\u001b[39m=\u001b[39mfind_stack_level(),\n\u001b[1;32m    228\u001b[0m     )\n\u001b[1;32m    229\u001b[0m     \u001b[39mreturn\u001b[39;00m converter(\u001b[39mself\u001b[39m\u001b[39m.\u001b[39miloc[\u001b[39m0\u001b[39m])\n\u001b[0;32m--> 230\u001b[0m \u001b[39mraise\u001b[39;00m \u001b[39mTypeError\u001b[39;00m(\u001b[39mf\u001b[39m\u001b[39m\"\u001b[39m\u001b[39mcannot convert the series to \u001b[39m\u001b[39m{\u001b[39;00mconverter\u001b[39m}\u001b[39;00m\u001b[39m\"\u001b[39m)\n",
      "\u001b[0;31mTypeError\u001b[0m: cannot convert the series to <class 'float'>"
     ]
    }
   ],
   "source": [
    "alpha = 0.05\n",
    "corr, p = stats.pearsonr(x11, float(y11))\n",
    "corr, p"
   ]
  },
  {
   "cell_type": "code",
   "execution_count": null,
   "metadata": {},
   "outputs": [],
   "source": [
    "if p < alpha:\n",
    "    print('We reject the null hypothesis')\n",
    "else:\n",
    "    print('We fail to reject the null hypothesis')"
   ]
  },
  {
   "cell_type": "markdown",
   "metadata": {},
   "source": [
    "### What happens if you control for phone and internet service?\n"
   ]
  },
  {
   "cell_type": "code",
   "execution_count": null,
   "metadata": {},
   "outputs": [
    {
     "data": {
      "text/html": [
       "<div>\n",
       "<style scoped>\n",
       "    .dataframe tbody tr th:only-of-type {\n",
       "        vertical-align: middle;\n",
       "    }\n",
       "\n",
       "    .dataframe tbody tr th {\n",
       "        vertical-align: top;\n",
       "    }\n",
       "\n",
       "    .dataframe thead th {\n",
       "        text-align: right;\n",
       "    }\n",
       "</style>\n",
       "<table border=\"1\" class=\"dataframe\">\n",
       "  <thead>\n",
       "    <tr style=\"text-align: right;\">\n",
       "      <th></th>\n",
       "      <th>customer_id</th>\n",
       "      <th>gender</th>\n",
       "      <th>senior_citizen</th>\n",
       "      <th>partner</th>\n",
       "      <th>dependents</th>\n",
       "      <th>tenure</th>\n",
       "      <th>phone_service</th>\n",
       "      <th>multiple_lines</th>\n",
       "      <th>internet_service_type_id</th>\n",
       "      <th>online_security</th>\n",
       "      <th>...</th>\n",
       "      <th>device_protection</th>\n",
       "      <th>tech_support</th>\n",
       "      <th>streaming_tv</th>\n",
       "      <th>streaming_movies</th>\n",
       "      <th>contract_type_id</th>\n",
       "      <th>paperless_billing</th>\n",
       "      <th>payment_type_id</th>\n",
       "      <th>monthly_charges</th>\n",
       "      <th>total_charges</th>\n",
       "      <th>churn</th>\n",
       "    </tr>\n",
       "  </thead>\n",
       "  <tbody>\n",
       "    <tr>\n",
       "      <th>1006</th>\n",
       "      <td>1453-RZFON</td>\n",
       "      <td>Female</td>\n",
       "      <td>0</td>\n",
       "      <td>No</td>\n",
       "      <td>Yes</td>\n",
       "      <td>1</td>\n",
       "      <td>Yes</td>\n",
       "      <td>No</td>\n",
       "      <td>1</td>\n",
       "      <td>Yes</td>\n",
       "      <td>...</td>\n",
       "      <td>No</td>\n",
       "      <td>No</td>\n",
       "      <td>No</td>\n",
       "      <td>No</td>\n",
       "      <td>1</td>\n",
       "      <td>No</td>\n",
       "      <td>2</td>\n",
       "      <td>49.90</td>\n",
       "      <td>49.9</td>\n",
       "      <td>No</td>\n",
       "    </tr>\n",
       "    <tr>\n",
       "      <th>979</th>\n",
       "      <td>1421-HCERK</td>\n",
       "      <td>Male</td>\n",
       "      <td>1</td>\n",
       "      <td>Yes</td>\n",
       "      <td>No</td>\n",
       "      <td>30</td>\n",
       "      <td>Yes</td>\n",
       "      <td>Yes</td>\n",
       "      <td>2</td>\n",
       "      <td>Yes</td>\n",
       "      <td>...</td>\n",
       "      <td>Yes</td>\n",
       "      <td>Yes</td>\n",
       "      <td>Yes</td>\n",
       "      <td>No</td>\n",
       "      <td>1</td>\n",
       "      <td>Yes</td>\n",
       "      <td>3</td>\n",
       "      <td>105.70</td>\n",
       "      <td>3181.8</td>\n",
       "      <td>No</td>\n",
       "    </tr>\n",
       "    <tr>\n",
       "      <th>3888</th>\n",
       "      <td>5469-CTCWN</td>\n",
       "      <td>Male</td>\n",
       "      <td>0</td>\n",
       "      <td>Yes</td>\n",
       "      <td>Yes</td>\n",
       "      <td>61</td>\n",
       "      <td>Yes</td>\n",
       "      <td>Yes</td>\n",
       "      <td>2</td>\n",
       "      <td>Yes</td>\n",
       "      <td>...</td>\n",
       "      <td>No</td>\n",
       "      <td>No</td>\n",
       "      <td>Yes</td>\n",
       "      <td>Yes</td>\n",
       "      <td>2</td>\n",
       "      <td>Yes</td>\n",
       "      <td>1</td>\n",
       "      <td>106.00</td>\n",
       "      <td>6547.7</td>\n",
       "      <td>Yes</td>\n",
       "    </tr>\n",
       "    <tr>\n",
       "      <th>2513</th>\n",
       "      <td>3590-TCXTB</td>\n",
       "      <td>Male</td>\n",
       "      <td>0</td>\n",
       "      <td>No</td>\n",
       "      <td>No</td>\n",
       "      <td>1</td>\n",
       "      <td>Yes</td>\n",
       "      <td>No</td>\n",
       "      <td>3</td>\n",
       "      <td>No internet service</td>\n",
       "      <td>...</td>\n",
       "      <td>No internet service</td>\n",
       "      <td>No internet service</td>\n",
       "      <td>No internet service</td>\n",
       "      <td>No internet service</td>\n",
       "      <td>1</td>\n",
       "      <td>No</td>\n",
       "      <td>2</td>\n",
       "      <td>20.35</td>\n",
       "      <td>20.35</td>\n",
       "      <td>No</td>\n",
       "    </tr>\n",
       "    <tr>\n",
       "      <th>5034</th>\n",
       "      <td>7077-XJMET</td>\n",
       "      <td>Male</td>\n",
       "      <td>0</td>\n",
       "      <td>Yes</td>\n",
       "      <td>No</td>\n",
       "      <td>12</td>\n",
       "      <td>Yes</td>\n",
       "      <td>No</td>\n",
       "      <td>1</td>\n",
       "      <td>No</td>\n",
       "      <td>...</td>\n",
       "      <td>Yes</td>\n",
       "      <td>Yes</td>\n",
       "      <td>Yes</td>\n",
       "      <td>Yes</td>\n",
       "      <td>1</td>\n",
       "      <td>Yes</td>\n",
       "      <td>1</td>\n",
       "      <td>74.15</td>\n",
       "      <td>741.4</td>\n",
       "      <td>No</td>\n",
       "    </tr>\n",
       "    <tr>\n",
       "      <th>5170</th>\n",
       "      <td>7272-QDCKA</td>\n",
       "      <td>Male</td>\n",
       "      <td>0</td>\n",
       "      <td>No</td>\n",
       "      <td>No</td>\n",
       "      <td>28</td>\n",
       "      <td>Yes</td>\n",
       "      <td>Yes</td>\n",
       "      <td>2</td>\n",
       "      <td>No</td>\n",
       "      <td>...</td>\n",
       "      <td>No</td>\n",
       "      <td>No</td>\n",
       "      <td>Yes</td>\n",
       "      <td>Yes</td>\n",
       "      <td>2</td>\n",
       "      <td>No</td>\n",
       "      <td>1</td>\n",
       "      <td>100.20</td>\n",
       "      <td>2688.45</td>\n",
       "      <td>No</td>\n",
       "    </tr>\n",
       "    <tr>\n",
       "      <th>3216</th>\n",
       "      <td>4612-THJBS</td>\n",
       "      <td>Female</td>\n",
       "      <td>1</td>\n",
       "      <td>No</td>\n",
       "      <td>No</td>\n",
       "      <td>56</td>\n",
       "      <td>Yes</td>\n",
       "      <td>Yes</td>\n",
       "      <td>2</td>\n",
       "      <td>No</td>\n",
       "      <td>...</td>\n",
       "      <td>Yes</td>\n",
       "      <td>No</td>\n",
       "      <td>Yes</td>\n",
       "      <td>Yes</td>\n",
       "      <td>2</td>\n",
       "      <td>Yes</td>\n",
       "      <td>3</td>\n",
       "      <td>104.75</td>\n",
       "      <td>5510.65</td>\n",
       "      <td>Yes</td>\n",
       "    </tr>\n",
       "    <tr>\n",
       "      <th>2897</th>\n",
       "      <td>4128-ETESU</td>\n",
       "      <td>Female</td>\n",
       "      <td>1</td>\n",
       "      <td>Yes</td>\n",
       "      <td>No</td>\n",
       "      <td>47</td>\n",
       "      <td>Yes</td>\n",
       "      <td>Yes</td>\n",
       "      <td>2</td>\n",
       "      <td>No</td>\n",
       "      <td>...</td>\n",
       "      <td>Yes</td>\n",
       "      <td>No</td>\n",
       "      <td>Yes</td>\n",
       "      <td>Yes</td>\n",
       "      <td>1</td>\n",
       "      <td>No</td>\n",
       "      <td>1</td>\n",
       "      <td>99.70</td>\n",
       "      <td>4747.2</td>\n",
       "      <td>No</td>\n",
       "    </tr>\n",
       "    <tr>\n",
       "      <th>4267</th>\n",
       "      <td>6008-NAIXK</td>\n",
       "      <td>Male</td>\n",
       "      <td>1</td>\n",
       "      <td>No</td>\n",
       "      <td>No</td>\n",
       "      <td>54</td>\n",
       "      <td>No</td>\n",
       "      <td>No phone service</td>\n",
       "      <td>1</td>\n",
       "      <td>No</td>\n",
       "      <td>...</td>\n",
       "      <td>Yes</td>\n",
       "      <td>No</td>\n",
       "      <td>Yes</td>\n",
       "      <td>Yes</td>\n",
       "      <td>2</td>\n",
       "      <td>Yes</td>\n",
       "      <td>1</td>\n",
       "      <td>55.45</td>\n",
       "      <td>2966.95</td>\n",
       "      <td>No</td>\n",
       "    </tr>\n",
       "    <tr>\n",
       "      <th>6707</th>\n",
       "      <td>9526-BIHHD</td>\n",
       "      <td>Male</td>\n",
       "      <td>0</td>\n",
       "      <td>No</td>\n",
       "      <td>No</td>\n",
       "      <td>1</td>\n",
       "      <td>No</td>\n",
       "      <td>No phone service</td>\n",
       "      <td>1</td>\n",
       "      <td>Yes</td>\n",
       "      <td>...</td>\n",
       "      <td>No</td>\n",
       "      <td>No</td>\n",
       "      <td>No</td>\n",
       "      <td>No</td>\n",
       "      <td>1</td>\n",
       "      <td>No</td>\n",
       "      <td>2</td>\n",
       "      <td>29.70</td>\n",
       "      <td>29.7</td>\n",
       "      <td>Yes</td>\n",
       "    </tr>\n",
       "  </tbody>\n",
       "</table>\n",
       "<p>10 rows × 21 columns</p>\n",
       "</div>"
      ],
      "text/plain": [
       "     customer_id  gender  senior_citizen partner dependents  tenure  \\\n",
       "1006  1453-RZFON  Female               0      No        Yes       1   \n",
       "979   1421-HCERK    Male               1     Yes         No      30   \n",
       "3888  5469-CTCWN    Male               0     Yes        Yes      61   \n",
       "2513  3590-TCXTB    Male               0      No         No       1   \n",
       "5034  7077-XJMET    Male               0     Yes         No      12   \n",
       "5170  7272-QDCKA    Male               0      No         No      28   \n",
       "3216  4612-THJBS  Female               1      No         No      56   \n",
       "2897  4128-ETESU  Female               1     Yes         No      47   \n",
       "4267  6008-NAIXK    Male               1      No         No      54   \n",
       "6707  9526-BIHHD    Male               0      No         No       1   \n",
       "\n",
       "     phone_service    multiple_lines  internet_service_type_id  \\\n",
       "1006           Yes                No                         1   \n",
       "979            Yes               Yes                         2   \n",
       "3888           Yes               Yes                         2   \n",
       "2513           Yes                No                         3   \n",
       "5034           Yes                No                         1   \n",
       "5170           Yes               Yes                         2   \n",
       "3216           Yes               Yes                         2   \n",
       "2897           Yes               Yes                         2   \n",
       "4267            No  No phone service                         1   \n",
       "6707            No  No phone service                         1   \n",
       "\n",
       "          online_security  ...    device_protection         tech_support  \\\n",
       "1006                  Yes  ...                   No                   No   \n",
       "979                   Yes  ...                  Yes                  Yes   \n",
       "3888                  Yes  ...                   No                   No   \n",
       "2513  No internet service  ...  No internet service  No internet service   \n",
       "5034                   No  ...                  Yes                  Yes   \n",
       "5170                   No  ...                   No                   No   \n",
       "3216                   No  ...                  Yes                   No   \n",
       "2897                   No  ...                  Yes                   No   \n",
       "4267                   No  ...                  Yes                   No   \n",
       "6707                  Yes  ...                   No                   No   \n",
       "\n",
       "             streaming_tv     streaming_movies contract_type_id  \\\n",
       "1006                   No                   No                1   \n",
       "979                   Yes                   No                1   \n",
       "3888                  Yes                  Yes                2   \n",
       "2513  No internet service  No internet service                1   \n",
       "5034                  Yes                  Yes                1   \n",
       "5170                  Yes                  Yes                2   \n",
       "3216                  Yes                  Yes                2   \n",
       "2897                  Yes                  Yes                1   \n",
       "4267                  Yes                  Yes                2   \n",
       "6707                   No                   No                1   \n",
       "\n",
       "      paperless_billing payment_type_id  monthly_charges  total_charges churn  \n",
       "1006                 No               2            49.90           49.9    No  \n",
       "979                 Yes               3           105.70         3181.8    No  \n",
       "3888                Yes               1           106.00         6547.7   Yes  \n",
       "2513                 No               2            20.35          20.35    No  \n",
       "5034                Yes               1            74.15          741.4    No  \n",
       "5170                 No               1           100.20        2688.45    No  \n",
       "3216                Yes               3           104.75        5510.65   Yes  \n",
       "2897                 No               1            99.70         4747.2    No  \n",
       "4267                Yes               1            55.45        2966.95    No  \n",
       "6707                 No               2            29.70           29.7   Yes  \n",
       "\n",
       "[10 rows x 21 columns]"
      ]
     },
     "execution_count": 46,
     "metadata": {},
     "output_type": "execute_result"
    }
   ],
   "source": [
    "query3 = 'select  from customers'\n",
    "df_p = pd.read_sql(query3, telco_churn)\n",
    "df_p.sample(10)"
   ]
  },
  {
   "cell_type": "markdown",
   "metadata": {},
   "source": [
    "# Question 3\n",
    "\n",
    "### Use the employees database.\n"
   ]
  },
  {
   "cell_type": "code",
   "execution_count": null,
   "metadata": {},
   "outputs": [
    {
     "data": {
      "text/html": [
       "<div>\n",
       "<style scoped>\n",
       "    .dataframe tbody tr th:only-of-type {\n",
       "        vertical-align: middle;\n",
       "    }\n",
       "\n",
       "    .dataframe tbody tr th {\n",
       "        vertical-align: top;\n",
       "    }\n",
       "\n",
       "    .dataframe thead th {\n",
       "        text-align: right;\n",
       "    }\n",
       "</style>\n",
       "<table border=\"1\" class=\"dataframe\">\n",
       "  <thead>\n",
       "    <tr style=\"text-align: right;\">\n",
       "      <th></th>\n",
       "      <th>hire_date</th>\n",
       "      <th>salary</th>\n",
       "    </tr>\n",
       "  </thead>\n",
       "  <tbody>\n",
       "    <tr>\n",
       "      <th>235980</th>\n",
       "      <td>1993-02-22</td>\n",
       "      <td>79006</td>\n",
       "    </tr>\n",
       "    <tr>\n",
       "      <th>20896</th>\n",
       "      <td>1987-10-14</td>\n",
       "      <td>65377</td>\n",
       "    </tr>\n",
       "    <tr>\n",
       "      <th>103758</th>\n",
       "      <td>1985-10-19</td>\n",
       "      <td>64774</td>\n",
       "    </tr>\n",
       "    <tr>\n",
       "      <th>4183</th>\n",
       "      <td>1986-09-18</td>\n",
       "      <td>86041</td>\n",
       "    </tr>\n",
       "    <tr>\n",
       "      <th>200046</th>\n",
       "      <td>1989-06-17</td>\n",
       "      <td>68819</td>\n",
       "    </tr>\n",
       "    <tr>\n",
       "      <th>225991</th>\n",
       "      <td>1988-06-26</td>\n",
       "      <td>46183</td>\n",
       "    </tr>\n",
       "    <tr>\n",
       "      <th>62875</th>\n",
       "      <td>1995-04-06</td>\n",
       "      <td>70277</td>\n",
       "    </tr>\n",
       "    <tr>\n",
       "      <th>17573</th>\n",
       "      <td>1993-05-29</td>\n",
       "      <td>63001</td>\n",
       "    </tr>\n",
       "    <tr>\n",
       "      <th>17064</th>\n",
       "      <td>1993-04-21</td>\n",
       "      <td>54984</td>\n",
       "    </tr>\n",
       "    <tr>\n",
       "      <th>5207</th>\n",
       "      <td>1988-02-05</td>\n",
       "      <td>53326</td>\n",
       "    </tr>\n",
       "  </tbody>\n",
       "</table>\n",
       "</div>"
      ],
      "text/plain": [
       "         hire_date  salary\n",
       "235980  1993-02-22   79006\n",
       "20896   1987-10-14   65377\n",
       "103758  1985-10-19   64774\n",
       "4183    1986-09-18   86041\n",
       "200046  1989-06-17   68819\n",
       "225991  1988-06-26   46183\n",
       "62875   1995-04-06   70277\n",
       "17573   1993-05-29   63001\n",
       "17064   1993-04-21   54984\n",
       "5207    1988-02-05   53326"
      ]
     },
     "execution_count": 72,
     "metadata": {},
     "output_type": "execute_result"
    }
   ],
   "source": [
    "employees = get_db_url(env.user, env.password, env.host, 'employees')\n",
    "\n",
    "query4 = '''SELECT hire_date, salary \n",
    "            FROM employees as e \n",
    "            JOIN salaries as s \n",
    "            ON e.emp_no = s.emp_no\n",
    "            AND s.to_date > now()'''\n",
    "df_e = pd.read_sql(query4, employees)\n",
    "df_e.sample(10)\n"
   ]
  },
  {
   "cell_type": "markdown",
   "metadata": {},
   "source": [
    "### Is there a relationship between how long an employee has been with the company and their salary?\n"
   ]
  },
  {
   "cell_type": "code",
   "execution_count": null,
   "metadata": {},
   "outputs": [],
   "source": [
    "# let's create a model decade column to make a cleaner aggregate.\n",
    "# here I take the string version of the model_year and truncate the last digit\n",
    "# I then add in \"0's\" for legibility.\n",
    "df_e['decade'] = df_e.hire_date.apply(lambda x: str(x)[2] + '0\\'s')\n"
   ]
  },
  {
   "cell_type": "code",
   "execution_count": null,
   "metadata": {},
   "outputs": [
    {
     "data": {
      "text/plain": [
       "Text(-21.680555555555557, 0.5, 'Salary')"
      ]
     },
     "execution_count": 75,
     "metadata": {},
     "output_type": "execute_result"
    },
    {
     "data": {
      "image/png": "[encoded data removed]",
      "text/plain": [
       "<Figure size 500x500 with 1 Axes>"
      ]
     },
     "metadata": {},
     "output_type": "display_data"
    }
   ],
   "source": [
    "sns.relplot(x='hire_date', y='salary', data=df_e)\n",
    "plt.title('Hire Date and Salary')\n",
    "plt.xlabel('Hire Date')\n",
    "plt.ylabel('Salary')\n"
   ]
  },
  {
   "cell_type": "code",
   "execution_count": null,
   "metadata": {},
   "outputs": [
    {
     "name": "stdout",
     "output_type": "stream",
     "text": [
      "\u001b[0;31mSignature:\u001b[0m \u001b[0mstats\u001b[0m\u001b[0;34m.\u001b[0m\u001b[0mpearsonr\u001b[0m\u001b[0;34m(\u001b[0m\u001b[0mx\u001b[0m\u001b[0;34m,\u001b[0m \u001b[0my\u001b[0m\u001b[0;34m,\u001b[0m \u001b[0;34m*\u001b[0m\u001b[0;34m,\u001b[0m \u001b[0malternative\u001b[0m\u001b[0;34m=\u001b[0m\u001b[0;34m'two-sided'\u001b[0m\u001b[0;34m)\u001b[0m\u001b[0;34m\u001b[0m\u001b[0;34m\u001b[0m\u001b[0m\n",
      "\u001b[0;31mDocstring:\u001b[0m\n",
      "Pearson correlation coefficient and p-value for testing non-correlation.\n",
      "\n",
      "The Pearson correlation coefficient [1]_ measures the linear relationship\n",
      "between two datasets. Like other correlation\n",
      "coefficients, this one varies between -1 and +1 with 0 implying no\n",
      "correlation. Correlations of -1 or +1 imply an exact linear relationship.\n",
      "Positive correlations imply that as x increases, so does y. Negative\n",
      "correlations imply that as x increases, y decreases.\n",
      "\n",
      "This function also performs a test of the null hypothesis that the\n",
      "distributions underlying the samples are uncorrelated and normally\n",
      "distributed. (See Kowalski [3]_\n",
      "for a discussion of the effects of non-normality of the input on the\n",
      "distribution of the correlation coefficient.)\n",
      "The p-value roughly indicates the probability of an uncorrelated system\n",
      "producing datasets that have a Pearson correlation at least as extreme\n",
      "as the one computed from these datasets.\n",
      "\n",
      "Parameters\n",
      "----------\n",
      "x : (N,) array_like\n",
      "    Input array.\n",
      "y : (N,) array_like\n",
      "    Input array.\n",
      "alternative : {'two-sided', 'greater', 'less'}, optional\n",
      "    Defines the alternative hypothesis. Default is 'two-sided'.\n",
      "    The following options are available:\n",
      "\n",
      "    * 'two-sided': the correlation is nonzero\n",
      "    * 'less': the correlation is negative (less than zero)\n",
      "    * 'greater':  the correlation is positive (greater than zero)\n",
      "\n",
      "    .. versionadded:: 1.9.0\n",
      "\n",
      "Returns\n",
      "-------\n",
      "result : `~scipy.stats._result_classes.PearsonRResult`\n",
      "    An object with the following attributes:\n",
      "\n",
      "    statistic : float\n",
      "        Pearson product-moment correlation coefficient.\n",
      "    pvalue : float\n",
      "        The p-value associated with the chosen alternative.\n",
      "\n",
      "    The object has the following method:\n",
      "\n",
      "    confidence_interval(confidence_level=0.95)\n",
      "        This method computes the confidence interval of the correlation\n",
      "        coefficient `statistic` for the given confidence level.\n",
      "        The confidence interval is returned in a ``namedtuple`` with\n",
      "        fields `low` and `high`.  See the Notes for more details.\n",
      "\n",
      "Warns\n",
      "-----\n",
      "`~scipy.stats.ConstantInputWarning`\n",
      "    Raised if an input is a constant array.  The correlation coefficient\n",
      "    is not defined in this case, so ``np.nan`` is returned.\n",
      "\n",
      "`~scipy.stats.NearConstantInputWarning`\n",
      "    Raised if an input is \"nearly\" constant.  The array ``x`` is considered\n",
      "    nearly constant if ``norm(x - mean(x)) < 1e-13 * abs(mean(x))``.\n",
      "    Numerical errors in the calculation ``x - mean(x)`` in this case might\n",
      "    result in an inaccurate calculation of r.\n",
      "\n",
      "See Also\n",
      "--------\n",
      "spearmanr : Spearman rank-order correlation coefficient.\n",
      "kendalltau : Kendall's tau, a correlation measure for ordinal data.\n",
      "\n",
      "Notes\n",
      "-----\n",
      "The correlation coefficient is calculated as follows:\n",
      "\n",
      ".. math::\n",
      "\n",
      "    r = \\frac{\\sum (x - m_x) (y - m_y)}\n",
      "             {\\sqrt{\\sum (x - m_x)^2 \\sum (y - m_y)^2}}\n",
      "\n",
      "where :math:`m_x` is the mean of the vector x and :math:`m_y` is\n",
      "the mean of the vector y.\n",
      "\n",
      "Under the assumption that x and y are drawn from\n",
      "independent normal distributions (so the population correlation coefficient\n",
      "is 0), the probability density function of the sample correlation\n",
      "coefficient r is ([1]_, [2]_):\n",
      "\n",
      ".. math::\n",
      "    f(r) = \\frac{{(1-r^2)}^{n/2-2}}{\\mathrm{B}(\\frac{1}{2},\\frac{n}{2}-1)}\n",
      "\n",
      "where n is the number of samples, and B is the beta function.  This\n",
      "is sometimes referred to as the exact distribution of r.  This is\n",
      "the distribution that is used in `pearsonr` to compute the p-value.\n",
      "The distribution is a beta distribution on the interval [-1, 1],\n",
      "with equal shape parameters a = b = n/2 - 1.  In terms of SciPy's\n",
      "implementation of the beta distribution, the distribution of r is::\n",
      "\n",
      "    dist = scipy.stats.beta(n/2 - 1, n/2 - 1, loc=-1, scale=2)\n",
      "\n",
      "The default p-value returned by `pearsonr` is a two-sided p-value. For a\n",
      "given sample with correlation coefficient r, the p-value is\n",
      "the probability that abs(r') of a random sample x' and y' drawn from\n",
      "the population with zero correlation would be greater than or equal\n",
      "to abs(r). In terms of the object ``dist`` shown above, the p-value\n",
      "for a given r and length n can be computed as::\n",
      "\n",
      "    p = 2*dist.cdf(-abs(r))\n",
      "\n",
      "When n is 2, the above continuous distribution is not well-defined.\n",
      "One can interpret the limit of the beta distribution as the shape\n",
      "parameters a and b approach a = b = 0 as a discrete distribution with\n",
      "equal probability masses at r = 1 and r = -1.  More directly, one\n",
      "can observe that, given the data x = [x1, x2] and y = [y1, y2], and\n",
      "assuming x1 != x2 and y1 != y2, the only possible values for r are 1\n",
      "and -1.  Because abs(r') for any sample x' and y' with length 2 will\n",
      "be 1, the two-sided p-value for a sample of length 2 is always 1.\n",
      "\n",
      "For backwards compatibility, the object that is returned also behaves\n",
      "like a tuple of length two that holds the statistic and the p-value.\n",
      "\n",
      "References\n",
      "----------\n",
      ".. [1] \"Pearson correlation coefficient\", Wikipedia,\n",
      "       https://en.wikipedia.org/wiki/Pearson_correlation_coefficient\n",
      ".. [2] Student, \"Probable error of a correlation coefficient\",\n",
      "       Biometrika, Volume 6, Issue 2-3, 1 September 1908, pp. 302-310.\n",
      ".. [3] C. J. Kowalski, \"On the Effects of Non-Normality on the Distribution\n",
      "       of the Sample Product-Moment Correlation Coefficient\"\n",
      "       Journal of the Royal Statistical Society. Series C (Applied\n",
      "       Statistics), Vol. 21, No. 1 (1972), pp. 1-12.\n",
      "\n",
      "Examples\n",
      "--------\n",
      ">>> import numpy as np\n",
      ">>> from scipy import stats\n",
      ">>> res = stats.pearsonr([1, 2, 3, 4, 5], [10, 9, 2.5, 6, 4])\n",
      ">>> res\n",
      "PearsonRResult(statistic=-0.7426106572325056, pvalue=0.15055580885344558)\n",
      ">>> res.confidence_interval()\n",
      "ConfidenceInterval(low=-0.9816918044786463, high=0.40501116769030976)\n",
      "\n",
      "There is a linear dependence between x and y if y = a + b*x + e, where\n",
      "a,b are constants and e is a random error term, assumed to be independent\n",
      "of x. For simplicity, assume that x is standard normal, a=0, b=1 and let\n",
      "e follow a normal distribution with mean zero and standard deviation s>0.\n",
      "\n",
      ">>> rng = np.random.default_rng()\n",
      ">>> s = 0.5\n",
      ">>> x = stats.norm.rvs(size=500, random_state=rng)\n",
      ">>> e = stats.norm.rvs(scale=s, size=500, random_state=rng)\n",
      ">>> y = x + e\n",
      ">>> stats.pearsonr(x, y).statistic\n",
      "0.9001942438244763\n",
      "\n",
      "This should be close to the exact value given by\n",
      "\n",
      ">>> 1/np.sqrt(1 + s**2)\n",
      "0.8944271909999159\n",
      "\n",
      "For s=0.5, we observe a high level of correlation. In general, a large\n",
      "variance of the noise reduces the correlation, while the correlation\n",
      "approaches one as the variance of the error goes to zero.\n",
      "\n",
      "It is important to keep in mind that no correlation does not imply\n",
      "independence unless (x, y) is jointly normal. Correlation can even be zero\n",
      "when there is a very simple dependence structure: if X follows a\n",
      "standard normal distribution, let y = abs(x). Note that the correlation\n",
      "between x and y is zero. Indeed, since the expectation of x is zero,\n",
      "cov(x, y) = E[x*y]. By definition, this equals E[x*abs(x)] which is zero\n",
      "by symmetry. The following lines of code illustrate this observation:\n",
      "\n",
      ">>> y = np.abs(x)\n",
      ">>> stats.pearsonr(x, y)\n",
      "PearsonRResult(statistic=-0.05444919272687482, pvalue=0.22422294836207743)\n",
      "\n",
      "A non-zero correlation coefficient can be misleading. For example, if X has\n",
      "a standard normal distribution, define y = x if x < 0 and y = 0 otherwise.\n",
      "A simple calculation shows that corr(x, y) = sqrt(2/Pi) = 0.797...,\n",
      "implying a high level of correlation:\n",
      "\n",
      ">>> y = np.where(x < 0, x, 0)\n",
      ">>> stats.pearsonr(x, y)\n",
      "PearsonRResult(statistic=0.861985781588, pvalue=4.813432002751103e-149)\n",
      "\n",
      "This is unintuitive since there is no dependence of x and y if x is larger\n",
      "than zero which happens in about half of the cases if we sample x and y.\n",
      "\u001b[0;31mFile:\u001b[0m      ~/anaconda3/lib/python3.10/site-packages/scipy/stats/_stats_py.py\n",
      "\u001b[0;31mType:\u001b[0m      function"
     ]
    }
   ],
   "source": [
    "stats.pearsonr?"
   ]
  },
  {
   "cell_type": "code",
   "execution_count": null,
   "metadata": {},
   "outputs": [
    {
     "ename": "TypeError",
     "evalue": "unsupported operand type(s) for +: 'float' and 'datetime.date'",
     "output_type": "error",
     "traceback": [
      "\u001b[0;31m---------------------------------------------------------------------------\u001b[0m",
      "\u001b[0;31mTypeError\u001b[0m                                 Traceback (most recent call last)",
      "Cell \u001b[0;32mIn[117], line 3\u001b[0m\n\u001b[1;32m      1\u001b[0m alpha3 \u001b[39m=\u001b[39m \u001b[39m0.05\u001b[39m\n\u001b[0;32m----> 3\u001b[0m corr, p \u001b[39m=\u001b[39m stats\u001b[39m.\u001b[39;49mpearsonr(df_e\u001b[39m.\u001b[39;49mhire_date, df_e\u001b[39m.\u001b[39;49msalary)\n\u001b[1;32m      4\u001b[0m corr, p\n",
      "File \u001b[0;32m~/anaconda3/lib/python3.10/site-packages/scipy/stats/_stats_py.py:4432\u001b[0m, in \u001b[0;36mpearsonr\u001b[0;34m(x, y, alternative)\u001b[0m\n\u001b[1;32m   4427\u001b[0m     \u001b[39mreturn\u001b[39;00m result\n\u001b[1;32m   4429\u001b[0m \u001b[39m# dtype is the data type for the calculations.  This expression ensures\u001b[39;00m\n\u001b[1;32m   4430\u001b[0m \u001b[39m# that the data type is at least 64 bit floating point.  It might have\u001b[39;00m\n\u001b[1;32m   4431\u001b[0m \u001b[39m# more precision if the input is, for example, np.longdouble.\u001b[39;00m\n\u001b[0;32m-> 4432\u001b[0m dtype \u001b[39m=\u001b[39m \u001b[39mtype\u001b[39m(\u001b[39m1.0\u001b[39;49m \u001b[39m+\u001b[39;49m x[\u001b[39m0\u001b[39;49m] \u001b[39m+\u001b[39m y[\u001b[39m0\u001b[39m])\n\u001b[1;32m   4434\u001b[0m \u001b[39mif\u001b[39;00m n \u001b[39m==\u001b[39m \u001b[39m2\u001b[39m:\n\u001b[1;32m   4435\u001b[0m     r \u001b[39m=\u001b[39m dtype(np\u001b[39m.\u001b[39msign(x[\u001b[39m1\u001b[39m] \u001b[39m-\u001b[39m x[\u001b[39m0\u001b[39m])\u001b[39m*\u001b[39mnp\u001b[39m.\u001b[39msign(y[\u001b[39m1\u001b[39m] \u001b[39m-\u001b[39m y[\u001b[39m0\u001b[39m]))\n",
      "\u001b[0;31mTypeError\u001b[0m: unsupported operand type(s) for +: 'float' and 'datetime.date'"
     ]
    }
   ],
   "source": [
    "alpha3 = 0.05\n",
    "\n",
    "corr, p = stats.pearsonr(df_e.hire_date, df_e.salary)\n",
    "corr, p\n"
   ]
  },
  {
   "cell_type": "code",
   "execution_count": null,
   "metadata": {},
   "outputs": [],
   "source": [
    "if p < alpha3:\n",
    "    print('We reject the null hypothesis')\n",
    "else:\n",
    "    print('We fail to reject the null hypothesis')"
   ]
  },
  {
   "cell_type": "markdown",
   "metadata": {},
   "source": [
    "### Is there a relationship between how long an employee has been with the company and the number of titles they have had?\n"
   ]
  },
  {
   "cell_type": "code",
   "execution_count": null,
   "metadata": {},
   "outputs": [
    {
     "data": {
      "text/html": [
       "<div>\n",
       "<style scoped>\n",
       "    .dataframe tbody tr th:only-of-type {\n",
       "        vertical-align: middle;\n",
       "    }\n",
       "\n",
       "    .dataframe tbody tr th {\n",
       "        vertical-align: top;\n",
       "    }\n",
       "\n",
       "    .dataframe thead th {\n",
       "        text-align: right;\n",
       "    }\n",
       "</style>\n",
       "<table border=\"1\" class=\"dataframe\">\n",
       "  <thead>\n",
       "    <tr style=\"text-align: right;\">\n",
       "      <th></th>\n",
       "      <th>hire_date</th>\n",
       "      <th>title</th>\n",
       "    </tr>\n",
       "  </thead>\n",
       "  <tbody>\n",
       "    <tr>\n",
       "      <th>197074</th>\n",
       "      <td>1987-01-25</td>\n",
       "      <td>Senior Engineer</td>\n",
       "    </tr>\n",
       "    <tr>\n",
       "      <th>175707</th>\n",
       "      <td>1985-08-09</td>\n",
       "      <td>Senior Engineer</td>\n",
       "    </tr>\n",
       "    <tr>\n",
       "      <th>154106</th>\n",
       "      <td>1990-10-30</td>\n",
       "      <td>Senior Engineer</td>\n",
       "    </tr>\n",
       "    <tr>\n",
       "      <th>105626</th>\n",
       "      <td>1995-02-07</td>\n",
       "      <td>Staff</td>\n",
       "    </tr>\n",
       "    <tr>\n",
       "      <th>115529</th>\n",
       "      <td>1987-02-03</td>\n",
       "      <td>Senior Staff</td>\n",
       "    </tr>\n",
       "    <tr>\n",
       "      <th>154781</th>\n",
       "      <td>1990-10-25</td>\n",
       "      <td>Technique Leader</td>\n",
       "    </tr>\n",
       "    <tr>\n",
       "      <th>152351</th>\n",
       "      <td>1990-04-18</td>\n",
       "      <td>Senior Staff</td>\n",
       "    </tr>\n",
       "    <tr>\n",
       "      <th>152612</th>\n",
       "      <td>1991-01-16</td>\n",
       "      <td>Senior Staff</td>\n",
       "    </tr>\n",
       "    <tr>\n",
       "      <th>40073</th>\n",
       "      <td>1992-09-17</td>\n",
       "      <td>Senior Engineer</td>\n",
       "    </tr>\n",
       "    <tr>\n",
       "      <th>100267</th>\n",
       "      <td>1988-12-11</td>\n",
       "      <td>Senior Engineer</td>\n",
       "    </tr>\n",
       "  </tbody>\n",
       "</table>\n",
       "</div>"
      ],
      "text/plain": [
       "         hire_date             title\n",
       "197074  1987-01-25   Senior Engineer\n",
       "175707  1985-08-09   Senior Engineer\n",
       "154106  1990-10-30   Senior Engineer\n",
       "105626  1995-02-07             Staff\n",
       "115529  1987-02-03      Senior Staff\n",
       "154781  1990-10-25  Technique Leader\n",
       "152351  1990-04-18      Senior Staff\n",
       "152612  1991-01-16      Senior Staff\n",
       "40073   1992-09-17   Senior Engineer\n",
       "100267  1988-12-11   Senior Engineer"
      ]
     },
     "execution_count": 82,
     "metadata": {},
     "output_type": "execute_result"
    }
   ],
   "source": [
    "query5 = '''SELECT hire_date, title \n",
    "            FROM employees as e \n",
    "            JOIN titles as t \n",
    "            ON e.emp_no = t.emp_no\n",
    "            AND t.to_date > now()'''\n",
    "df_et = pd.read_sql(query5, employees)\n",
    "df_et.sample(10)"
   ]
  },
  {
   "cell_type": "code",
   "execution_count": null,
   "metadata": {},
   "outputs": [
    {
     "data": {
      "text/plain": [
       "Text(-97.68055555555556, 0.5, 'Title')"
      ]
     },
     "execution_count": 84,
     "metadata": {},
     "output_type": "execute_result"
    },
    {
     "data": {
      "image/png": "[encoded data removed]",
      "text/plain": [
       "<Figure size 500x500 with 1 Axes>"
      ]
     },
     "metadata": {},
     "output_type": "display_data"
    }
   ],
   "source": [
    "sns.relplot(x='hire_date', y='title', data=df_et)\n",
    "plt.title('Hire Date and Title')\n",
    "plt.xlabel('Hire Date')\n",
    "plt.ylabel('Title')"
   ]
  },
  {
   "cell_type": "markdown",
   "metadata": {},
   "source": [
    "# Question 4\n",
    "\n",
    "### Use the sleepstudy data.\n"
   ]
  },
  {
   "cell_type": "code",
   "execution_count": null,
   "metadata": {},
   "outputs": [
    {
     "data": {
      "text/html": [
       "<div>\n",
       "<style scoped>\n",
       "    .dataframe tbody tr th:only-of-type {\n",
       "        vertical-align: middle;\n",
       "    }\n",
       "\n",
       "    .dataframe tbody tr th {\n",
       "        vertical-align: top;\n",
       "    }\n",
       "\n",
       "    .dataframe thead th {\n",
       "        text-align: right;\n",
       "    }\n",
       "</style>\n",
       "<table border=\"1\" class=\"dataframe\">\n",
       "  <thead>\n",
       "    <tr style=\"text-align: right;\">\n",
       "      <th></th>\n",
       "      <th>Reaction</th>\n",
       "      <th>Days</th>\n",
       "      <th>Subject</th>\n",
       "    </tr>\n",
       "  </thead>\n",
       "  <tbody>\n",
       "    <tr>\n",
       "      <th>90</th>\n",
       "      <td>237.2466</td>\n",
       "      <td>9</td>\n",
       "      <td>335</td>\n",
       "    </tr>\n",
       "    <tr>\n",
       "      <th>16</th>\n",
       "      <td>215.9618</td>\n",
       "      <td>5</td>\n",
       "      <td>309</td>\n",
       "    </tr>\n",
       "    <tr>\n",
       "      <th>86</th>\n",
       "      <td>254.6362</td>\n",
       "      <td>5</td>\n",
       "      <td>335</td>\n",
       "    </tr>\n",
       "    <tr>\n",
       "      <th>78</th>\n",
       "      <td>331.5229</td>\n",
       "      <td>7</td>\n",
       "      <td>334</td>\n",
       "    </tr>\n",
       "    <tr>\n",
       "      <th>162</th>\n",
       "      <td>272.4428</td>\n",
       "      <td>1</td>\n",
       "      <td>371</td>\n",
       "    </tr>\n",
       "    <tr>\n",
       "      <th>37</th>\n",
       "      <td>280.2396</td>\n",
       "      <td>6</td>\n",
       "      <td>330</td>\n",
       "    </tr>\n",
       "    <tr>\n",
       "      <th>117</th>\n",
       "      <td>379.4445</td>\n",
       "      <td>6</td>\n",
       "      <td>350</td>\n",
       "    </tr>\n",
       "    <tr>\n",
       "      <th>59</th>\n",
       "      <td>330.3003</td>\n",
       "      <td>8</td>\n",
       "      <td>332</td>\n",
       "    </tr>\n",
       "    <tr>\n",
       "      <th>139</th>\n",
       "      <td>375.6406</td>\n",
       "      <td>8</td>\n",
       "      <td>352</td>\n",
       "    </tr>\n",
       "    <tr>\n",
       "      <th>93</th>\n",
       "      <td>291.6112</td>\n",
       "      <td>2</td>\n",
       "      <td>337</td>\n",
       "    </tr>\n",
       "  </tbody>\n",
       "</table>\n",
       "</div>"
      ],
      "text/plain": [
       "     Reaction  Days  Subject\n",
       "90   237.2466     9      335\n",
       "16   215.9618     5      309\n",
       "86   254.6362     5      335\n",
       "78   331.5229     7      334\n",
       "162  272.4428     1      371\n",
       "37   280.2396     6      330\n",
       "117  379.4445     6      350\n",
       "59   330.3003     8      332\n",
       "139  375.6406     8      352\n",
       "93   291.6112     2      337"
      ]
     },
     "execution_count": 79,
     "metadata": {},
     "output_type": "execute_result"
    }
   ],
   "source": [
    "sleep_study = data('sleepstudy')\n",
    "sleep_study.sample(10)"
   ]
  },
  {
   "cell_type": "markdown",
   "metadata": {},
   "source": [
    "### Is there a relationship between days and reaction time?\n"
   ]
  },
  {
   "cell_type": "code",
   "execution_count": null,
   "metadata": {},
   "outputs": [
    {
     "data": {
      "text/plain": [
       "Text(4.944444444444445, 0.5, 'Reaction Time')"
      ]
     },
     "execution_count": 80,
     "metadata": {},
     "output_type": "execute_result"
    },
    {
     "data": {
      "image/png": "[encoded data removed]",
      "text/plain": [
       "<Figure size 500x500 with 1 Axes>"
      ]
     },
     "metadata": {},
     "output_type": "display_data"
    }
   ],
   "source": [
    "sns.relplot(x='Days', y='Reaction', data=sleep_study)\n",
    "plt.title('Days vs Reaction time ')\n",
    "plt.xlabel('Days')\n",
    "plt.ylabel('Reaction Time')"
   ]
  },
  {
   "cell_type": "code",
   "execution_count": null,
   "metadata": {},
   "outputs": [
    {
     "data": {
      "text/plain": [
       "(0.5352302262650255, 9.89409632221439e-15)"
      ]
     },
     "execution_count": 108,
     "metadata": {},
     "output_type": "execute_result"
    }
   ],
   "source": [
    "a = 0.5\n",
    "\n",
    "corr, p = stats.pearsonr(sleep_study.Days, sleep_study.Reaction)\n",
    "corr, p\n",
    "\n"
   ]
  },
  {
   "cell_type": "code",
   "execution_count": null,
   "metadata": {},
   "outputs": [
    {
     "name": "stdout",
     "output_type": "stream",
     "text": [
      "We reject the null hypothesis\n"
     ]
    }
   ],
   "source": [
    "if p < a:\n",
    "    print('We reject the null hypothesis')\n",
    "else:\n",
    "    print('We fail to reject the null hypothesis')"
   ]
  },
  {
   "cell_type": "markdown",
   "metadata": {},
   "source": [
    "# Comparison of mean exersises "
   ]
  },
  {
   "cell_type": "code",
   "execution_count": null,
   "metadata": {},
   "outputs": [],
   "source": [
    "def eval_dist(r, p, α=0.05):\n",
    "    '''\n",
    "    This function takes in r, p and alpha values\n",
    "    then returns normal distribution print statement,\n",
    "    if the p value is greater than alpha.\n",
    "    Or not normal distribution print statement otherwise.\n",
    "    '''\n",
    "    if p > α:\n",
    "        return print(f\"\"\"The data is normally distributed\"\"\")\n",
    "    else:\n",
    "        return print(f\"\"\"The data is NOT normally distributed\"\"\")"
   ]
  },
  {
   "cell_type": "markdown",
   "metadata": {},
   "source": [
    "# Question 1\n",
    "\n",
    "### Answer with the type of test you would use (assume normal distribution):\n",
    "\n"
   ]
  },
  {
   "cell_type": "markdown",
   "metadata": {},
   "source": [
    "### Is there a difference in grades of students on the second floor compared to grades of all students?\n",
    "    - Grades of students on the second floor is a sample of the population \n",
    "    - Grades of all the students is the population \n",
    "\n",
    "    - both are continuous variables\n",
    "\n",
    "    - One Sample T-test - comparing an observed mean to a thoretical one \n"
   ]
  },
  {
   "cell_type": "markdown",
   "metadata": {},
   "source": [
    "### Are adults who drink milk taller than adults who don't drink milk?\n",
    "\n",
    "        - adults who drink milk is a sample\n",
    "        - adults who do not drink milk is a sample \n",
    "\n",
    "        - both are continous variables \n",
    "\n",
    "        - Independant T-test (a.k.a. Two sample T-test) - comparing mean of group A to the mean of group B \n"
   ]
  },
  {
   "cell_type": "markdown",
   "metadata": {},
   "source": [
    "### Is the price of gas higher in Texas or in New Mexico?\n",
    "\n",
    "        - Texas gas price is a sample \n",
    "        - New Mexico Gas price is a sample \n",
    "\n",
    "        - both are continous variables \n",
    "        \n",
    "        - Independant T-test (a.k.a. Two sample T-test) - comparing mean of group A to the mean of group B "
   ]
  },
  {
   "cell_type": "markdown",
   "metadata": {},
   "source": [
    "### Are there differences in stress levels between students who take data science vs students who take web development vs students who take cloud academy?\n",
    "\n",
    "\n",
    "        - ds student's stress is a sample \n",
    "        - wd student's stress is a sample \n",
    "        - ca student's stress if a sample \n",
    "\n",
    "        - all three are contunous variables \n",
    "\n",
    "        - ANOVA (analysis of variancs) - comparing the means of groups A, B, and C (more than 2)"
   ]
  },
  {
   "cell_type": "markdown",
   "metadata": {},
   "source": [
    "# Question 2\n",
    "\n",
    "### Ace Realty wants to determine whether the average time it takes to sell homes is different for its two offices. \n",
    "\n",
    "\n",
    "### A sample of 40 sales from office #1 revealed a mean of 90 days and a standard deviation of 15 days. \n",
    "\n",
    "\n",
    "### A sample of 50 sales from office #2 revealed a mean of 100 days and a standard deviation of 20 days. \n",
    "\n",
    "\n",
    "### Use a .05 level of significance.\n",
    "\n"
   ]
  },
  {
   "cell_type": "code",
   "execution_count": null,
   "metadata": {},
   "outputs": [],
   "source": [
    "# is an independent 2 smapled T test \n",
    "# two tail \n",
    "\n",
    "# Form a null hypothisis and alternative hypothisis \n",
    "\n",
    "# - Null) office 1 sells homes at a faster rate\n",
    "# - alternative) Both offices sell homes at the same rate "
   ]
  },
  {
   "cell_type": "code",
   "execution_count": 221,
   "metadata": {},
   "outputs": [],
   "source": [
    "# generate arrays for both offices \n",
    "\n",
    "office_1 = np.random.normal(90, 15, size =(40))\n",
    "office_2 = np.random.normal(100, 20, size =(50))"
   ]
  },
  {
   "cell_type": "code",
   "execution_count": 224,
   "metadata": {},
   "outputs": [],
   "source": [
    "# or \n",
    "\n",
    "office1 = stats.norm(90, 15).rvs(40)\n",
    "office2 = stats.norm(100, 20).rvs(50)"
   ]
  },
  {
   "cell_type": "code",
   "execution_count": null,
   "metadata": {},
   "outputs": [],
   "source": [
    "# can do some exploration \n",
    "x = np.arrage()"
   ]
  },
  {
   "cell_type": "code",
   "execution_count": null,
   "metadata": {},
   "outputs": [],
   "source": [
    "# option 1 is to use the simulation \n",
    "# option 2 use ttest_ind_from_stats "
   ]
  },
  {
   "cell_type": "code",
   "execution_count": null,
   "metadata": {},
   "outputs": [],
   "source": [
    "# independant samples? \n",
    "# - Yes both are independent samples\n",
    "\n",
    "# Normal Distrobution? \n",
    "# - Yes both have normal distrobution "
   ]
  },
  {
   "cell_type": "markdown",
   "metadata": {},
   "source": [
    "# Question 3 \n",
    "\n",
    "### Load the mpg dataset and use it to answer the following questions:\n"
   ]
  },
  {
   "cell_type": "code",
   "execution_count": 158,
   "metadata": {},
   "outputs": [
    {
     "name": "stdout",
     "output_type": "stream",
     "text": [
      "<class 'pandas.core.frame.DataFrame'>\n",
      "Index: 234 entries, 1 to 234\n",
      "Data columns (total 11 columns):\n",
      " #   Column        Non-Null Count  Dtype  \n",
      "---  ------        --------------  -----  \n",
      " 0   manufacturer  234 non-null    object \n",
      " 1   model         234 non-null    object \n",
      " 2   displ         234 non-null    float64\n",
      " 3   year          234 non-null    int64  \n",
      " 4   cyl           234 non-null    int64  \n",
      " 5   trans         234 non-null    object \n",
      " 6   drv           234 non-null    object \n",
      " 7   cty           234 non-null    int64  \n",
      " 8   hwy           234 non-null    int64  \n",
      " 9   fl            234 non-null    object \n",
      " 10  class         234 non-null    object \n",
      "dtypes: float64(1), int64(4), object(6)\n",
      "memory usage: 21.9+ KB\n"
     ]
    }
   ],
   "source": [
    "from pydataset import data\n",
    "mpg = data('mpg')\n",
    "mpg.info()"
   ]
  },
  {
   "cell_type": "code",
   "execution_count": 159,
   "metadata": {},
   "outputs": [
    {
     "data": {
      "text/html": [
       "<div>\n",
       "<style scoped>\n",
       "    .dataframe tbody tr th:only-of-type {\n",
       "        vertical-align: middle;\n",
       "    }\n",
       "\n",
       "    .dataframe tbody tr th {\n",
       "        vertical-align: top;\n",
       "    }\n",
       "\n",
       "    .dataframe thead th {\n",
       "        text-align: right;\n",
       "    }\n",
       "</style>\n",
       "<table border=\"1\" class=\"dataframe\">\n",
       "  <thead>\n",
       "    <tr style=\"text-align: right;\">\n",
       "      <th></th>\n",
       "      <th>manufacturer</th>\n",
       "      <th>model</th>\n",
       "      <th>displ</th>\n",
       "      <th>year</th>\n",
       "      <th>cyl</th>\n",
       "      <th>trans</th>\n",
       "      <th>drv</th>\n",
       "      <th>cty</th>\n",
       "      <th>hwy</th>\n",
       "      <th>fl</th>\n",
       "      <th>class</th>\n",
       "    </tr>\n",
       "  </thead>\n",
       "  <tbody>\n",
       "    <tr>\n",
       "      <th>12</th>\n",
       "      <td>audi</td>\n",
       "      <td>a4 quattro</td>\n",
       "      <td>2.8</td>\n",
       "      <td>1999</td>\n",
       "      <td>6</td>\n",
       "      <td>auto(l5)</td>\n",
       "      <td>4</td>\n",
       "      <td>15</td>\n",
       "      <td>25</td>\n",
       "      <td>p</td>\n",
       "      <td>compact</td>\n",
       "    </tr>\n",
       "    <tr>\n",
       "      <th>202</th>\n",
       "      <td>toyota</td>\n",
       "      <td>toyota tacoma 4wd</td>\n",
       "      <td>2.7</td>\n",
       "      <td>1999</td>\n",
       "      <td>4</td>\n",
       "      <td>auto(l4)</td>\n",
       "      <td>4</td>\n",
       "      <td>16</td>\n",
       "      <td>20</td>\n",
       "      <td>r</td>\n",
       "      <td>pickup</td>\n",
       "    </tr>\n",
       "    <tr>\n",
       "      <th>138</th>\n",
       "      <td>mercury</td>\n",
       "      <td>mountaineer 4wd</td>\n",
       "      <td>4.0</td>\n",
       "      <td>1999</td>\n",
       "      <td>6</td>\n",
       "      <td>auto(l5)</td>\n",
       "      <td>4</td>\n",
       "      <td>14</td>\n",
       "      <td>17</td>\n",
       "      <td>r</td>\n",
       "      <td>suv</td>\n",
       "    </tr>\n",
       "  </tbody>\n",
       "</table>\n",
       "</div>"
      ],
      "text/plain": [
       "    manufacturer              model  displ  year  cyl     trans drv  cty  hwy  \\\n",
       "12          audi         a4 quattro    2.8  1999    6  auto(l5)   4   15   25   \n",
       "202       toyota  toyota tacoma 4wd    2.7  1999    4  auto(l4)   4   16   20   \n",
       "138      mercury    mountaineer 4wd    4.0  1999    6  auto(l5)   4   14   17   \n",
       "\n",
       "    fl    class  \n",
       "12   p  compact  \n",
       "202  r   pickup  \n",
       "138  r      suv  "
      ]
     },
     "execution_count": 159,
     "metadata": {},
     "output_type": "execute_result"
    }
   ],
   "source": [
    "mpg.sample(3)"
   ]
  },
  {
   "cell_type": "markdown",
   "metadata": {},
   "source": [
    "\n",
    "### Is there a difference in fuel-efficiency in cars from 2008 vs 1999?\n"
   ]
  },
  {
   "cell_type": "code",
   "execution_count": null,
   "metadata": {},
   "outputs": [],
   "source": [
    "# NULL there is a differance in fuel-efficiency in cars from 2008 vs 1999\n",
    "# there is not a difference in fuel-efficiency in cars from 2008 vs 1999"
   ]
  },
  {
   "cell_type": "code",
   "execution_count": 225,
   "metadata": {},
   "outputs": [
    {
     "data": {
      "text/html": [
       "<div>\n",
       "<style scoped>\n",
       "    .dataframe tbody tr th:only-of-type {\n",
       "        vertical-align: middle;\n",
       "    }\n",
       "\n",
       "    .dataframe tbody tr th {\n",
       "        vertical-align: top;\n",
       "    }\n",
       "\n",
       "    .dataframe thead th {\n",
       "        text-align: right;\n",
       "    }\n",
       "</style>\n",
       "<table border=\"1\" class=\"dataframe\">\n",
       "  <thead>\n",
       "    <tr style=\"text-align: right;\">\n",
       "      <th></th>\n",
       "      <th>manufacturer</th>\n",
       "      <th>model</th>\n",
       "      <th>displ</th>\n",
       "      <th>year</th>\n",
       "      <th>cyl</th>\n",
       "      <th>trans</th>\n",
       "      <th>drv</th>\n",
       "      <th>cty</th>\n",
       "      <th>hwy</th>\n",
       "      <th>fl</th>\n",
       "      <th>class</th>\n",
       "      <th>fuel-efficiency</th>\n",
       "      <th>fuel_efficiency</th>\n",
       "    </tr>\n",
       "  </thead>\n",
       "  <tbody>\n",
       "    <tr>\n",
       "      <th>1</th>\n",
       "      <td>audi</td>\n",
       "      <td>a4</td>\n",
       "      <td>1.8</td>\n",
       "      <td>1999</td>\n",
       "      <td>4</td>\n",
       "      <td>auto(l5)</td>\n",
       "      <td>f</td>\n",
       "      <td>18</td>\n",
       "      <td>29</td>\n",
       "      <td>p</td>\n",
       "      <td>compact</td>\n",
       "      <td>38.0</td>\n",
       "      <td>38.0</td>\n",
       "    </tr>\n",
       "    <tr>\n",
       "      <th>2</th>\n",
       "      <td>audi</td>\n",
       "      <td>a4</td>\n",
       "      <td>1.8</td>\n",
       "      <td>1999</td>\n",
       "      <td>4</td>\n",
       "      <td>manual(m5)</td>\n",
       "      <td>f</td>\n",
       "      <td>21</td>\n",
       "      <td>29</td>\n",
       "      <td>p</td>\n",
       "      <td>compact</td>\n",
       "      <td>39.5</td>\n",
       "      <td>39.5</td>\n",
       "    </tr>\n",
       "    <tr>\n",
       "      <th>3</th>\n",
       "      <td>audi</td>\n",
       "      <td>a4</td>\n",
       "      <td>2.0</td>\n",
       "      <td>2008</td>\n",
       "      <td>4</td>\n",
       "      <td>manual(m6)</td>\n",
       "      <td>f</td>\n",
       "      <td>20</td>\n",
       "      <td>31</td>\n",
       "      <td>p</td>\n",
       "      <td>compact</td>\n",
       "      <td>41.0</td>\n",
       "      <td>41.0</td>\n",
       "    </tr>\n",
       "    <tr>\n",
       "      <th>4</th>\n",
       "      <td>audi</td>\n",
       "      <td>a4</td>\n",
       "      <td>2.0</td>\n",
       "      <td>2008</td>\n",
       "      <td>4</td>\n",
       "      <td>auto(av)</td>\n",
       "      <td>f</td>\n",
       "      <td>21</td>\n",
       "      <td>30</td>\n",
       "      <td>p</td>\n",
       "      <td>compact</td>\n",
       "      <td>40.5</td>\n",
       "      <td>40.5</td>\n",
       "    </tr>\n",
       "    <tr>\n",
       "      <th>5</th>\n",
       "      <td>audi</td>\n",
       "      <td>a4</td>\n",
       "      <td>2.8</td>\n",
       "      <td>1999</td>\n",
       "      <td>6</td>\n",
       "      <td>auto(l5)</td>\n",
       "      <td>f</td>\n",
       "      <td>16</td>\n",
       "      <td>26</td>\n",
       "      <td>p</td>\n",
       "      <td>compact</td>\n",
       "      <td>34.0</td>\n",
       "      <td>34.0</td>\n",
       "    </tr>\n",
       "    <tr>\n",
       "      <th>...</th>\n",
       "      <td>...</td>\n",
       "      <td>...</td>\n",
       "      <td>...</td>\n",
       "      <td>...</td>\n",
       "      <td>...</td>\n",
       "      <td>...</td>\n",
       "      <td>...</td>\n",
       "      <td>...</td>\n",
       "      <td>...</td>\n",
       "      <td>...</td>\n",
       "      <td>...</td>\n",
       "      <td>...</td>\n",
       "      <td>...</td>\n",
       "    </tr>\n",
       "    <tr>\n",
       "      <th>230</th>\n",
       "      <td>volkswagen</td>\n",
       "      <td>passat</td>\n",
       "      <td>2.0</td>\n",
       "      <td>2008</td>\n",
       "      <td>4</td>\n",
       "      <td>auto(s6)</td>\n",
       "      <td>f</td>\n",
       "      <td>19</td>\n",
       "      <td>28</td>\n",
       "      <td>p</td>\n",
       "      <td>midsize</td>\n",
       "      <td>37.5</td>\n",
       "      <td>37.5</td>\n",
       "    </tr>\n",
       "    <tr>\n",
       "      <th>231</th>\n",
       "      <td>volkswagen</td>\n",
       "      <td>passat</td>\n",
       "      <td>2.0</td>\n",
       "      <td>2008</td>\n",
       "      <td>4</td>\n",
       "      <td>manual(m6)</td>\n",
       "      <td>f</td>\n",
       "      <td>21</td>\n",
       "      <td>29</td>\n",
       "      <td>p</td>\n",
       "      <td>midsize</td>\n",
       "      <td>39.5</td>\n",
       "      <td>39.5</td>\n",
       "    </tr>\n",
       "    <tr>\n",
       "      <th>232</th>\n",
       "      <td>volkswagen</td>\n",
       "      <td>passat</td>\n",
       "      <td>2.8</td>\n",
       "      <td>1999</td>\n",
       "      <td>6</td>\n",
       "      <td>auto(l5)</td>\n",
       "      <td>f</td>\n",
       "      <td>16</td>\n",
       "      <td>26</td>\n",
       "      <td>p</td>\n",
       "      <td>midsize</td>\n",
       "      <td>34.0</td>\n",
       "      <td>34.0</td>\n",
       "    </tr>\n",
       "    <tr>\n",
       "      <th>233</th>\n",
       "      <td>volkswagen</td>\n",
       "      <td>passat</td>\n",
       "      <td>2.8</td>\n",
       "      <td>1999</td>\n",
       "      <td>6</td>\n",
       "      <td>manual(m5)</td>\n",
       "      <td>f</td>\n",
       "      <td>18</td>\n",
       "      <td>26</td>\n",
       "      <td>p</td>\n",
       "      <td>midsize</td>\n",
       "      <td>35.0</td>\n",
       "      <td>35.0</td>\n",
       "    </tr>\n",
       "    <tr>\n",
       "      <th>234</th>\n",
       "      <td>volkswagen</td>\n",
       "      <td>passat</td>\n",
       "      <td>3.6</td>\n",
       "      <td>2008</td>\n",
       "      <td>6</td>\n",
       "      <td>auto(s6)</td>\n",
       "      <td>f</td>\n",
       "      <td>17</td>\n",
       "      <td>26</td>\n",
       "      <td>p</td>\n",
       "      <td>midsize</td>\n",
       "      <td>34.5</td>\n",
       "      <td>34.5</td>\n",
       "    </tr>\n",
       "  </tbody>\n",
       "</table>\n",
       "<p>234 rows × 13 columns</p>\n",
       "</div>"
      ],
      "text/plain": [
       "    manufacturer   model  displ  year  cyl       trans drv  cty  hwy fl  \\\n",
       "1           audi      a4    1.8  1999    4    auto(l5)   f   18   29  p   \n",
       "2           audi      a4    1.8  1999    4  manual(m5)   f   21   29  p   \n",
       "3           audi      a4    2.0  2008    4  manual(m6)   f   20   31  p   \n",
       "4           audi      a4    2.0  2008    4    auto(av)   f   21   30  p   \n",
       "5           audi      a4    2.8  1999    6    auto(l5)   f   16   26  p   \n",
       "..           ...     ...    ...   ...  ...         ...  ..  ...  ... ..   \n",
       "230   volkswagen  passat    2.0  2008    4    auto(s6)   f   19   28  p   \n",
       "231   volkswagen  passat    2.0  2008    4  manual(m6)   f   21   29  p   \n",
       "232   volkswagen  passat    2.8  1999    6    auto(l5)   f   16   26  p   \n",
       "233   volkswagen  passat    2.8  1999    6  manual(m5)   f   18   26  p   \n",
       "234   volkswagen  passat    3.6  2008    6    auto(s6)   f   17   26  p   \n",
       "\n",
       "       class  fuel-efficiency  fuel_efficiency  \n",
       "1    compact             38.0             38.0  \n",
       "2    compact             39.5             39.5  \n",
       "3    compact             41.0             41.0  \n",
       "4    compact             40.5             40.5  \n",
       "5    compact             34.0             34.0  \n",
       "..       ...              ...              ...  \n",
       "230  midsize             37.5             37.5  \n",
       "231  midsize             39.5             39.5  \n",
       "232  midsize             34.0             34.0  \n",
       "233  midsize             35.0             35.0  \n",
       "234  midsize             34.5             34.5  \n",
       "\n",
       "[234 rows x 13 columns]"
      ]
     },
     "execution_count": 225,
     "metadata": {},
     "output_type": "execute_result"
    }
   ],
   "source": [
    "# created a new column for mean of cty and hwy\n",
    "\n",
    "fuel_efficiency = mpg.hwy + mpg.cty / 2\n",
    "mpg['fuel_efficiency'] = mpg.hwy + mpg.cty / 2\n",
    "mpg"
   ]
  },
  {
   "cell_type": "code",
   "execution_count": 226,
   "metadata": {},
   "outputs": [
    {
     "data": {
      "text/plain": [
       "array([1999, 2008])"
      ]
     },
     "execution_count": 226,
     "metadata": {},
     "output_type": "execute_result"
    }
   ],
   "source": [
    "mpg.year.unique()"
   ]
  },
  {
   "cell_type": "code",
   "execution_count": 230,
   "metadata": {},
   "outputs": [],
   "source": [
    "fuel_2008 = mpg[mpg.year == 2008].fuel_efficiency\n",
    "fuel_1999 = mpg[mpg.year == 1999].fuel_efficiency"
   ]
  },
  {
   "cell_type": "code",
   "execution_count": 233,
   "metadata": {},
   "outputs": [
    {
     "data": {
      "text/plain": [
       "(0.022852900328726007, 0.8799715917302564)"
      ]
     },
     "execution_count": 233,
     "metadata": {},
     "output_type": "execute_result"
    }
   ],
   "source": [
    "# variantce \n",
    "# run a levene test \n",
    "# H0\n",
    "# Ha \n",
    "lev_stat, p = stats.levene(fuel_1999, fuel_2008)\n",
    "\n",
    "lev_stat, p"
   ]
  },
  {
   "cell_type": "code",
   "execution_count": null,
   "metadata": {},
   "outputs": [],
   "source": []
  },
  {
   "cell_type": "code",
   "execution_count": 180,
   "metadata": {},
   "outputs": [
    {
     "data": {
      "text/plain": [
       "31.86965811965812"
      ]
     },
     "execution_count": 180,
     "metadata": {},
     "output_type": "execute_result"
    }
   ],
   "source": [
    "t, p = stats.ttest_ind(sample_car_a, sample_car_b, equal_var=False)\n",
    "t, p\n"
   ]
  },
  {
   "cell_type": "code",
   "execution_count": null,
   "metadata": {},
   "outputs": [],
   "source": [
    "print(\"is p/2 < alpha? \", p / 2 < alpha)\n",
    "print(\"is t > 0? \", t > 0)\n"
   ]
  },
  {
   "cell_type": "code",
   "execution_count": null,
   "metadata": {},
   "outputs": [],
   "source": [
    "if p / 2 > alpha:\n",
    "    print(\"We fail to reject the null hypothesis\")\n",
    "elif t < 0:\n",
    "    print(\"We fail to reject the null hypothesis\")\n",
    "else:\n",
    "    print(\"We reject the null hypothesis\")\n"
   ]
  },
  {
   "cell_type": "code",
   "execution_count": null,
   "metadata": {},
   "outputs": [],
   "source": [
    "# independant samples?\n",
    "# yes independand samples \n",
    "\n",
    "# Normal Distrobution?\n",
    "# yes normal distrobution "
   ]
  },
  {
   "cell_type": "markdown",
   "metadata": {},
   "source": [
    "### Are compact cars more fuel-efficient than the average car?\n"
   ]
  },
  {
   "cell_type": "code",
   "execution_count": 237,
   "metadata": {},
   "outputs": [],
   "source": [
    "compact_car = mpg[mpg['class'] == 'compact'].fuel_efficiency\n",
    "\n",
    "u = mpg['fuel_efficiency'].mean()"
   ]
  },
  {
   "cell_type": "code",
   "execution_count": 239,
   "metadata": {},
   "outputs": [
    {
     "data": {
      "text/plain": [
       "(8.24056790638155, 1.3102616430178035e-10)"
      ]
     },
     "execution_count": 239,
     "metadata": {},
     "output_type": "execute_result"
    }
   ],
   "source": [
    "t, p = stats.ttest_1samp(compact_car, u)\n",
    "\n",
    "t, p"
   ]
  },
  {
   "cell_type": "code",
   "execution_count": null,
   "metadata": {},
   "outputs": [],
   "source": [
    "lev_stat, p = stats.levene(fuel_1999, fuel_2008)\n",
    "\n",
    "lev_stat, p"
   ]
  },
  {
   "cell_type": "code",
   "execution_count": null,
   "metadata": {},
   "outputs": [],
   "source": [
    "t, p = stats.ttest_ind(sample_car_a, sample_car_b, equal_var=False)\n",
    "t, p\n"
   ]
  },
  {
   "cell_type": "code",
   "execution_count": null,
   "metadata": {},
   "outputs": [],
   "source": [
    "print(\"is p/2 < alpha? \", p / 2 < alpha)\n",
    "print(\"is t > 0? \", t > 0)"
   ]
  },
  {
   "cell_type": "code",
   "execution_count": null,
   "metadata": {},
   "outputs": [],
   "source": [
    "if p / 2 > alpha:\n",
    "    print(\"We fail to reject the null hypothesis\")\n",
    "elif t < 0:\n",
    "    print(\"We fail to reject the null hypothesis\")\n",
    "else:\n",
    "    print(\"We reject the null hypothesis\")"
   ]
  },
  {
   "cell_type": "markdown",
   "metadata": {},
   "source": [
    "### Do manual cars get better gas mileage than automatic cars?"
   ]
  },
  {
   "cell_type": "code",
   "execution_count": 242,
   "metadata": {},
   "outputs": [
    {
     "data": {
      "text/plain": [
       "array(['auto(l5)', 'manual(m5)', 'manual(m6)', 'auto(av)', 'auto(s6)',\n",
       "       'auto(l4)', 'auto(l3)', 'auto(l6)', 'auto(s5)', 'auto(s4)'],\n",
       "      dtype=object)"
      ]
     },
     "execution_count": 242,
     "metadata": {},
     "output_type": "execute_result"
    }
   ],
   "source": [
    "mpg.trans.unique()"
   ]
  },
  {
   "cell_type": "code",
   "execution_count": 244,
   "metadata": {},
   "outputs": [],
   "source": [
    "automatic_car = mpg[mpg.trans.str.lower().str.startswith('a')].fuel_efficiency\n",
    "manual_car = mpg[mpg.trans.str.lower().str.startswith('m')].fuel_efficiency\n",
    "\n",
    "\n"
   ]
  },
  {
   "cell_type": "code",
   "execution_count": 247,
   "metadata": {},
   "outputs": [
    {
     "data": {
      "text/plain": [
       "1       True\n",
       "2      False\n",
       "3      False\n",
       "4       True\n",
       "5       True\n",
       "       ...  \n",
       "230     True\n",
       "231    False\n",
       "232     True\n",
       "233    False\n",
       "234     True\n",
       "Name: trans, Length: 234, dtype: bool"
      ]
     },
     "execution_count": 247,
     "metadata": {},
     "output_type": "execute_result"
    }
   ],
   "source": [
    "mpg.trans.str.lower().str.startswith('a')"
   ]
  },
  {
   "cell_type": "code",
   "execution_count": 203,
   "metadata": {},
   "outputs": [
    {
     "data": {
      "text/plain": [
       "1      False\n",
       "2       True\n",
       "3       True\n",
       "4      False\n",
       "5      False\n",
       "       ...  \n",
       "230    False\n",
       "231     True\n",
       "232    False\n",
       "233     True\n",
       "234    False\n",
       "Name: trans, Length: 234, dtype: bool"
      ]
     },
     "execution_count": 203,
     "metadata": {},
     "output_type": "execute_result"
    }
   ],
   "source": [
    "manual = mpg['trans'].str.contains('man')\n"
   ]
  },
  {
   "cell_type": "code",
   "execution_count": null,
   "metadata": {},
   "outputs": [],
   "source": [
    "t, p = stats.ttest_ind(manual, automatic, equal_var=False)\n",
    "t, p"
   ]
  },
  {
   "cell_type": "code",
   "execution_count": null,
   "metadata": {},
   "outputs": [],
   "source": [
    "print(\"is p/2 < alpha? \", p / 2 < alpha)\n",
    "print(\"is t > 0? \", t > 0)"
   ]
  },
  {
   "cell_type": "code",
   "execution_count": null,
   "metadata": {},
   "outputs": [],
   "source": [
    "if p / 2 > alpha:\n",
    "    print(\"We fail to reject the null hypothesis\")\n",
    "elif t < 0:\n",
    "    print(\"We fail to reject the null hypothesis\")\n",
    "else:\n",
    "    print(\"We reject the null hypothesis\")"
   ]
  },
  {
   "cell_type": "markdown",
   "metadata": {},
   "source": [
    "# Exercise 3?"
   ]
  },
  {
   "cell_type": "markdown",
   "metadata": {},
   "source": [
    "# Question 1\n",
    "\n",
    "### Use the following contingency table to help answer the question of whether using a Macbook and being a Codeup student are independent of each other.\n",
    "\n"
   ]
  },
  {
   "cell_type": "markdown",
   "metadata": {},
   "source": [
    "#### Steps for chi squared testing \n",
    "#### 1) write down your null and alt hypothisis \n",
    "#### 2) define your alpha \n",
    "#### 3) crosstab\n",
    "#### 4) chi2, p, degf, expected = stats.chi2_contingency(observed)\n",
    "#### 5) reject or fail to reject the null hypothisis"
   ]
  },
  {
   "cell_type": "markdown",
   "metadata": {},
   "source": []
  },
  {
   "cell_type": "code",
   "execution_count": null,
   "metadata": {},
   "outputs": [],
   "source": [
    "# null there is no relationship between attending code up and using a macbook (independent)\n",
    "# alt there is a relationship between attending code up and using a macbook (not independant)"
   ]
  },
  {
   "cell_type": "code",
   "execution_count": 261,
   "metadata": {},
   "outputs": [],
   "source": [
    "aplha = 0.05"
   ]
  },
  {
   "cell_type": "code",
   "execution_count": null,
   "metadata": {},
   "outputs": [],
   "source": [
    "df = pd.DataFrame({'code_up_student': [49, 1],\n",
    "                   'not_code_up_student': [20, 30],\n",
    "                   'Country': ['A', 'A', 'A', 'A', 'B', 'B', 'B', 'B', 'B', 'B', 'B',\n",
    "                               'B', 'C', 'C', 'C', 'C', 'C', 'C', 'C', 'C']})"
   ]
  },
  {
   "cell_type": "code",
   "execution_count": 326,
   "metadata": {},
   "outputs": [
    {
     "data": {
      "text/html": [
       "<div>\n",
       "<style scoped>\n",
       "    .dataframe tbody tr th:only-of-type {\n",
       "        vertical-align: middle;\n",
       "    }\n",
       "\n",
       "    .dataframe tbody tr th {\n",
       "        vertical-align: top;\n",
       "    }\n",
       "\n",
       "    .dataframe thead th {\n",
       "        text-align: right;\n",
       "    }\n",
       "</style>\n",
       "<table border=\"1\" class=\"dataframe\">\n",
       "  <thead>\n",
       "    <tr style=\"text-align: right;\">\n",
       "      <th></th>\n",
       "      <th>code_up_student</th>\n",
       "      <th>not_code_up_student</th>\n",
       "    </tr>\n",
       "  </thead>\n",
       "  <tbody>\n",
       "    <tr>\n",
       "      <th>uses_a_macbook</th>\n",
       "      <td>49</td>\n",
       "      <td>20</td>\n",
       "    </tr>\n",
       "    <tr>\n",
       "      <th>does_not_use_a_macbook</th>\n",
       "      <td>1</td>\n",
       "      <td>30</td>\n",
       "    </tr>\n",
       "  </tbody>\n",
       "</table>\n",
       "</div>"
      ],
      "text/plain": [
       "                        code_up_student  not_code_up_student\n",
       "uses_a_macbook                       49                   20\n",
       "does_not_use_a_macbook                1                   30"
      ]
     },
     "execution_count": 326,
     "metadata": {},
     "output_type": "execute_result"
    }
   ],
   "source": [
    "# initialize data of lists.\n",
    "data = {'code_up_student': [49, 1],\n",
    "\t\t'not_code_up_student': [20, 30]}\n",
    "\n",
    "# Creates pandas DataFrame.\n",
    "df = pd.DataFrame(data, index=['uses_a_macbook',\n",
    "\t\t\t\t\t\t\t'does_not_use_a_macbook'])\n",
    "\n",
    "# print the data\n",
    "df\n",
    "\n"
   ]
  },
  {
   "cell_type": "code",
   "execution_count": 353,
   "metadata": {},
   "outputs": [
    {
     "data": {
      "text/plain": [
       "0.0"
      ]
     },
     "execution_count": 353,
     "metadata": {},
     "output_type": "execute_result"
    }
   ],
   "source": [
    "chi2, p, degf, expected = stats.chi2_contingency(df)\n",
    "p"
   ]
  },
  {
   "cell_type": "code",
   "execution_count": 354,
   "metadata": {},
   "outputs": [
    {
     "name": "stdout",
     "output_type": "stream",
     "text": [
      "We reject the null hypothesis\n"
     ]
    }
   ],
   "source": [
    "if p < alpha:\n",
    "    print('We reject the null hypothesis')\n",
    "else:\n",
    "    print('We fail to reject the null hypothesis')"
   ]
  },
  {
   "cell_type": "markdown",
   "metadata": {},
   "source": [
    "# Question 2\n",
    " \n",
    "### Choose another 2 categorical variables from the mpg dataset.\n",
    "\n"
   ]
  },
  {
   "cell_type": "code",
   "execution_count": 248,
   "metadata": {},
   "outputs": [
    {
     "name": "stdout",
     "output_type": "stream",
     "text": [
      "<class 'pandas.core.frame.DataFrame'>\n",
      "Index: 234 entries, 1 to 234\n",
      "Data columns (total 11 columns):\n",
      " #   Column        Non-Null Count  Dtype  \n",
      "---  ------        --------------  -----  \n",
      " 0   manufacturer  234 non-null    object \n",
      " 1   model         234 non-null    object \n",
      " 2   displ         234 non-null    float64\n",
      " 3   year          234 non-null    int64  \n",
      " 4   cyl           234 non-null    int64  \n",
      " 5   trans         234 non-null    object \n",
      " 6   drv           234 non-null    object \n",
      " 7   cty           234 non-null    int64  \n",
      " 8   hwy           234 non-null    int64  \n",
      " 9   fl            234 non-null    object \n",
      " 10  class         234 non-null    object \n",
      "dtypes: float64(1), int64(4), object(6)\n",
      "memory usage: 21.9+ KB\n"
     ]
    }
   ],
   "source": [
    "mpg = data('mpg')\n",
    "mpg.info()"
   ]
  },
  {
   "cell_type": "code",
   "execution_count": 249,
   "metadata": {},
   "outputs": [
    {
     "data": {
      "text/html": [
       "<div>\n",
       "<style scoped>\n",
       "    .dataframe tbody tr th:only-of-type {\n",
       "        vertical-align: middle;\n",
       "    }\n",
       "\n",
       "    .dataframe tbody tr th {\n",
       "        vertical-align: top;\n",
       "    }\n",
       "\n",
       "    .dataframe thead th {\n",
       "        text-align: right;\n",
       "    }\n",
       "</style>\n",
       "<table border=\"1\" class=\"dataframe\">\n",
       "  <thead>\n",
       "    <tr style=\"text-align: right;\">\n",
       "      <th></th>\n",
       "      <th>displ</th>\n",
       "      <th>year</th>\n",
       "      <th>cyl</th>\n",
       "      <th>cty</th>\n",
       "      <th>hwy</th>\n",
       "    </tr>\n",
       "  </thead>\n",
       "  <tbody>\n",
       "    <tr>\n",
       "      <th>count</th>\n",
       "      <td>234.000000</td>\n",
       "      <td>234.000000</td>\n",
       "      <td>234.000000</td>\n",
       "      <td>234.000000</td>\n",
       "      <td>234.000000</td>\n",
       "    </tr>\n",
       "    <tr>\n",
       "      <th>mean</th>\n",
       "      <td>3.471795</td>\n",
       "      <td>2003.500000</td>\n",
       "      <td>5.888889</td>\n",
       "      <td>16.858974</td>\n",
       "      <td>23.440171</td>\n",
       "    </tr>\n",
       "    <tr>\n",
       "      <th>std</th>\n",
       "      <td>1.291959</td>\n",
       "      <td>4.509646</td>\n",
       "      <td>1.611534</td>\n",
       "      <td>4.255946</td>\n",
       "      <td>5.954643</td>\n",
       "    </tr>\n",
       "    <tr>\n",
       "      <th>min</th>\n",
       "      <td>1.600000</td>\n",
       "      <td>1999.000000</td>\n",
       "      <td>4.000000</td>\n",
       "      <td>9.000000</td>\n",
       "      <td>12.000000</td>\n",
       "    </tr>\n",
       "    <tr>\n",
       "      <th>25%</th>\n",
       "      <td>2.400000</td>\n",
       "      <td>1999.000000</td>\n",
       "      <td>4.000000</td>\n",
       "      <td>14.000000</td>\n",
       "      <td>18.000000</td>\n",
       "    </tr>\n",
       "    <tr>\n",
       "      <th>50%</th>\n",
       "      <td>3.300000</td>\n",
       "      <td>2003.500000</td>\n",
       "      <td>6.000000</td>\n",
       "      <td>17.000000</td>\n",
       "      <td>24.000000</td>\n",
       "    </tr>\n",
       "    <tr>\n",
       "      <th>75%</th>\n",
       "      <td>4.600000</td>\n",
       "      <td>2008.000000</td>\n",
       "      <td>8.000000</td>\n",
       "      <td>19.000000</td>\n",
       "      <td>27.000000</td>\n",
       "    </tr>\n",
       "    <tr>\n",
       "      <th>max</th>\n",
       "      <td>7.000000</td>\n",
       "      <td>2008.000000</td>\n",
       "      <td>8.000000</td>\n",
       "      <td>35.000000</td>\n",
       "      <td>44.000000</td>\n",
       "    </tr>\n",
       "  </tbody>\n",
       "</table>\n",
       "</div>"
      ],
      "text/plain": [
       "            displ         year         cyl         cty         hwy\n",
       "count  234.000000   234.000000  234.000000  234.000000  234.000000\n",
       "mean     3.471795  2003.500000    5.888889   16.858974   23.440171\n",
       "std      1.291959     4.509646    1.611534    4.255946    5.954643\n",
       "min      1.600000  1999.000000    4.000000    9.000000   12.000000\n",
       "25%      2.400000  1999.000000    4.000000   14.000000   18.000000\n",
       "50%      3.300000  2003.500000    6.000000   17.000000   24.000000\n",
       "75%      4.600000  2008.000000    8.000000   19.000000   27.000000\n",
       "max      7.000000  2008.000000    8.000000   35.000000   44.000000"
      ]
     },
     "execution_count": 249,
     "metadata": {},
     "output_type": "execute_result"
    }
   ],
   "source": [
    "mpg.describe()"
   ]
  },
  {
   "cell_type": "code",
   "execution_count": 250,
   "metadata": {},
   "outputs": [
    {
     "data": {
      "text/html": [
       "<div>\n",
       "<style scoped>\n",
       "    .dataframe tbody tr th:only-of-type {\n",
       "        vertical-align: middle;\n",
       "    }\n",
       "\n",
       "    .dataframe tbody tr th {\n",
       "        vertical-align: top;\n",
       "    }\n",
       "\n",
       "    .dataframe thead th {\n",
       "        text-align: right;\n",
       "    }\n",
       "</style>\n",
       "<table border=\"1\" class=\"dataframe\">\n",
       "  <thead>\n",
       "    <tr style=\"text-align: right;\">\n",
       "      <th></th>\n",
       "      <th>manufacturer</th>\n",
       "      <th>model</th>\n",
       "      <th>displ</th>\n",
       "      <th>year</th>\n",
       "      <th>cyl</th>\n",
       "      <th>trans</th>\n",
       "      <th>drv</th>\n",
       "      <th>cty</th>\n",
       "      <th>hwy</th>\n",
       "      <th>fl</th>\n",
       "      <th>class</th>\n",
       "    </tr>\n",
       "  </thead>\n",
       "  <tbody>\n",
       "    <tr>\n",
       "      <th>29</th>\n",
       "      <td>chevrolet</td>\n",
       "      <td>k1500 tahoe 4wd</td>\n",
       "      <td>5.3</td>\n",
       "      <td>2008</td>\n",
       "      <td>8</td>\n",
       "      <td>auto(l4)</td>\n",
       "      <td>4</td>\n",
       "      <td>14</td>\n",
       "      <td>19</td>\n",
       "      <td>r</td>\n",
       "      <td>suv</td>\n",
       "    </tr>\n",
       "    <tr>\n",
       "      <th>197</th>\n",
       "      <td>toyota</td>\n",
       "      <td>corolla</td>\n",
       "      <td>1.8</td>\n",
       "      <td>2008</td>\n",
       "      <td>4</td>\n",
       "      <td>manual(m5)</td>\n",
       "      <td>f</td>\n",
       "      <td>28</td>\n",
       "      <td>37</td>\n",
       "      <td>r</td>\n",
       "      <td>compact</td>\n",
       "    </tr>\n",
       "    <tr>\n",
       "      <th>20</th>\n",
       "      <td>chevrolet</td>\n",
       "      <td>c1500 suburban 2wd</td>\n",
       "      <td>5.3</td>\n",
       "      <td>2008</td>\n",
       "      <td>8</td>\n",
       "      <td>auto(l4)</td>\n",
       "      <td>r</td>\n",
       "      <td>11</td>\n",
       "      <td>15</td>\n",
       "      <td>e</td>\n",
       "      <td>suv</td>\n",
       "    </tr>\n",
       "    <tr>\n",
       "      <th>16</th>\n",
       "      <td>audi</td>\n",
       "      <td>a6 quattro</td>\n",
       "      <td>2.8</td>\n",
       "      <td>1999</td>\n",
       "      <td>6</td>\n",
       "      <td>auto(l5)</td>\n",
       "      <td>4</td>\n",
       "      <td>15</td>\n",
       "      <td>24</td>\n",
       "      <td>p</td>\n",
       "      <td>midsize</td>\n",
       "    </tr>\n",
       "    <tr>\n",
       "      <th>153</th>\n",
       "      <td>nissan</td>\n",
       "      <td>pathfinder 4wd</td>\n",
       "      <td>4.0</td>\n",
       "      <td>2008</td>\n",
       "      <td>6</td>\n",
       "      <td>auto(l5)</td>\n",
       "      <td>4</td>\n",
       "      <td>14</td>\n",
       "      <td>20</td>\n",
       "      <td>p</td>\n",
       "      <td>suv</td>\n",
       "    </tr>\n",
       "  </tbody>\n",
       "</table>\n",
       "</div>"
      ],
      "text/plain": [
       "    manufacturer               model  displ  year  cyl       trans drv  cty  \\\n",
       "29     chevrolet     k1500 tahoe 4wd    5.3  2008    8    auto(l4)   4   14   \n",
       "197       toyota             corolla    1.8  2008    4  manual(m5)   f   28   \n",
       "20     chevrolet  c1500 suburban 2wd    5.3  2008    8    auto(l4)   r   11   \n",
       "16          audi          a6 quattro    2.8  1999    6    auto(l5)   4   15   \n",
       "153       nissan      pathfinder 4wd    4.0  2008    6    auto(l5)   4   14   \n",
       "\n",
       "     hwy fl    class  \n",
       "29    19  r      suv  \n",
       "197   37  r  compact  \n",
       "20    15  e      suv  \n",
       "16    24  p  midsize  \n",
       "153   20  p      suv  "
      ]
     },
     "execution_count": 250,
     "metadata": {},
     "output_type": "execute_result"
    }
   ],
   "source": [
    "mpg.sample(5)"
   ]
  },
  {
   "cell_type": "code",
   "execution_count": null,
   "metadata": {},
   "outputs": [],
   "source": [
    "# I choose cyl and class "
   ]
  },
  {
   "cell_type": "markdown",
   "metadata": {},
   "source": [
    "#### State your null and alternative hypotheses.\n",
    "    - there is no relationship between the class of car and number of cyl"
   ]
  },
  {
   "cell_type": "code",
   "execution_count": 251,
   "metadata": {},
   "outputs": [],
   "source": [
    "# State your alpha.\n",
    "\n",
    "alpha = 0.05 \n"
   ]
  },
  {
   "cell_type": "code",
   "execution_count": 253,
   "metadata": {},
   "outputs": [
    {
     "data": {
      "text/html": [
       "<div>\n",
       "<style scoped>\n",
       "    .dataframe tbody tr th:only-of-type {\n",
       "        vertical-align: middle;\n",
       "    }\n",
       "\n",
       "    .dataframe tbody tr th {\n",
       "        vertical-align: top;\n",
       "    }\n",
       "\n",
       "    .dataframe thead th {\n",
       "        text-align: right;\n",
       "    }\n",
       "</style>\n",
       "<table border=\"1\" class=\"dataframe\">\n",
       "  <thead>\n",
       "    <tr style=\"text-align: right;\">\n",
       "      <th>cyl</th>\n",
       "      <th>4</th>\n",
       "      <th>5</th>\n",
       "      <th>6</th>\n",
       "      <th>8</th>\n",
       "    </tr>\n",
       "    <tr>\n",
       "      <th>class</th>\n",
       "      <th></th>\n",
       "      <th></th>\n",
       "      <th></th>\n",
       "      <th></th>\n",
       "    </tr>\n",
       "  </thead>\n",
       "  <tbody>\n",
       "    <tr>\n",
       "      <th>2seater</th>\n",
       "      <td>0</td>\n",
       "      <td>0</td>\n",
       "      <td>0</td>\n",
       "      <td>5</td>\n",
       "    </tr>\n",
       "    <tr>\n",
       "      <th>compact</th>\n",
       "      <td>32</td>\n",
       "      <td>2</td>\n",
       "      <td>13</td>\n",
       "      <td>0</td>\n",
       "    </tr>\n",
       "    <tr>\n",
       "      <th>midsize</th>\n",
       "      <td>16</td>\n",
       "      <td>0</td>\n",
       "      <td>23</td>\n",
       "      <td>2</td>\n",
       "    </tr>\n",
       "    <tr>\n",
       "      <th>minivan</th>\n",
       "      <td>1</td>\n",
       "      <td>0</td>\n",
       "      <td>10</td>\n",
       "      <td>0</td>\n",
       "    </tr>\n",
       "    <tr>\n",
       "      <th>pickup</th>\n",
       "      <td>3</td>\n",
       "      <td>0</td>\n",
       "      <td>10</td>\n",
       "      <td>20</td>\n",
       "    </tr>\n",
       "    <tr>\n",
       "      <th>subcompact</th>\n",
       "      <td>21</td>\n",
       "      <td>2</td>\n",
       "      <td>7</td>\n",
       "      <td>5</td>\n",
       "    </tr>\n",
       "    <tr>\n",
       "      <th>suv</th>\n",
       "      <td>8</td>\n",
       "      <td>0</td>\n",
       "      <td>16</td>\n",
       "      <td>38</td>\n",
       "    </tr>\n",
       "  </tbody>\n",
       "</table>\n",
       "</div>"
      ],
      "text/plain": [
       "cyl          4  5   6   8\n",
       "class                    \n",
       "2seater      0  0   0   5\n",
       "compact     32  2  13   0\n",
       "midsize     16  0  23   2\n",
       "minivan      1  0  10   0\n",
       "pickup       3  0  10  20\n",
       "subcompact  21  2   7   5\n",
       "suv          8  0  16  38"
      ]
     },
     "execution_count": 253,
     "metadata": {},
     "output_type": "execute_result"
    }
   ],
   "source": [
    "# Perform a chi2 test of independence.\n",
    "\n",
    "observed = pd.crosstab(mpg['class'], mpg['cyl'])\n",
    "observed"
   ]
  },
  {
   "cell_type": "code",
   "execution_count": 255,
   "metadata": {},
   "outputs": [
    {
     "data": {
      "text/plain": [
       "1.5351076620141742e-20"
      ]
     },
     "execution_count": 255,
     "metadata": {},
     "output_type": "execute_result"
    }
   ],
   "source": [
    "chi2, p, degf, expected = stats.chi2_contingency(observed)\n",
    "p"
   ]
  },
  {
   "cell_type": "code",
   "execution_count": 256,
   "metadata": {},
   "outputs": [
    {
     "name": "stdout",
     "output_type": "stream",
     "text": [
      "We reject the null hypothesis\n"
     ]
    }
   ],
   "source": [
    "if p < alpha:\n",
    "    print('We reject the null hypothesis')\n",
    "else:\n",
    "    print('We fail to reject the null hypothesis')"
   ]
  },
  {
   "cell_type": "markdown",
   "metadata": {},
   "source": [
    "# Question 3 \n",
    "\n",
    "### Use the data from the employees database to answer these questions:\n",
    "\n",
    "\n"
   ]
  },
  {
   "cell_type": "code",
   "execution_count": 278,
   "metadata": {},
   "outputs": [],
   "source": [
    "from env import user, host, password, host\n",
    "def get_db_url(user, password, host, db):\n",
    "    url = f'mysql+pymysql://{user}:{password}@{host}/{db}'\n",
    "    return(url)"
   ]
  },
  {
   "cell_type": "code",
   "execution_count": 279,
   "metadata": {},
   "outputs": [
    {
     "data": {
      "text/html": [
       "<div>\n",
       "<style scoped>\n",
       "    .dataframe tbody tr th:only-of-type {\n",
       "        vertical-align: middle;\n",
       "    }\n",
       "\n",
       "    .dataframe tbody tr th {\n",
       "        vertical-align: top;\n",
       "    }\n",
       "\n",
       "    .dataframe thead th {\n",
       "        text-align: right;\n",
       "    }\n",
       "</style>\n",
       "<table border=\"1\" class=\"dataframe\">\n",
       "  <thead>\n",
       "    <tr style=\"text-align: right;\">\n",
       "      <th></th>\n",
       "      <th>emp_no</th>\n",
       "      <th>birth_date</th>\n",
       "      <th>first_name</th>\n",
       "      <th>last_name</th>\n",
       "      <th>gender</th>\n",
       "      <th>hire_date</th>\n",
       "    </tr>\n",
       "  </thead>\n",
       "  <tbody>\n",
       "    <tr>\n",
       "      <th>0</th>\n",
       "      <td>10001</td>\n",
       "      <td>1953-09-02</td>\n",
       "      <td>Georgi</td>\n",
       "      <td>Facello</td>\n",
       "      <td>M</td>\n",
       "      <td>1986-06-26</td>\n",
       "    </tr>\n",
       "  </tbody>\n",
       "</table>\n",
       "</div>"
      ],
      "text/plain": [
       "   emp_no  birth_date first_name last_name gender   hire_date\n",
       "0   10001  1953-09-02     Georgi   Facello      M  1986-06-26"
      ]
     },
     "execution_count": 279,
     "metadata": {},
     "output_type": "execute_result"
    }
   ],
   "source": [
    "employees = get_db_url(env.user, env.password, env.host, 'employees')\n",
    "\n",
    "\n",
    "query1 = 'select * from employees limit 1'\n",
    "emp = pd.read_sql(query1, employees)\n",
    "emp"
   ]
  },
  {
   "cell_type": "markdown",
   "metadata": {},
   "source": [
    "### Is an employee's gender independent of whether an employee works in sales or marketing? (only look at current employees)\n"
   ]
  },
  {
   "cell_type": "code",
   "execution_count": 283,
   "metadata": {},
   "outputs": [
    {
     "data": {
      "text/html": [
       "<div>\n",
       "<style scoped>\n",
       "    .dataframe tbody tr th:only-of-type {\n",
       "        vertical-align: middle;\n",
       "    }\n",
       "\n",
       "    .dataframe tbody tr th {\n",
       "        vertical-align: top;\n",
       "    }\n",
       "\n",
       "    .dataframe thead th {\n",
       "        text-align: right;\n",
       "    }\n",
       "</style>\n",
       "<table border=\"1\" class=\"dataframe\">\n",
       "  <thead>\n",
       "    <tr style=\"text-align: right;\">\n",
       "      <th></th>\n",
       "      <th>gender</th>\n",
       "      <th>dept_name</th>\n",
       "    </tr>\n",
       "  </thead>\n",
       "  <tbody>\n",
       "    <tr>\n",
       "      <th>0</th>\n",
       "      <td>M</td>\n",
       "      <td>Customer Service</td>\n",
       "    </tr>\n",
       "    <tr>\n",
       "      <th>1</th>\n",
       "      <td>F</td>\n",
       "      <td>Customer Service</td>\n",
       "    </tr>\n",
       "    <tr>\n",
       "      <th>2</th>\n",
       "      <td>M</td>\n",
       "      <td>Customer Service</td>\n",
       "    </tr>\n",
       "    <tr>\n",
       "      <th>3</th>\n",
       "      <td>F</td>\n",
       "      <td>Customer Service</td>\n",
       "    </tr>\n",
       "    <tr>\n",
       "      <th>4</th>\n",
       "      <td>F</td>\n",
       "      <td>Customer Service</td>\n",
       "    </tr>\n",
       "    <tr>\n",
       "      <th>...</th>\n",
       "      <td>...</td>\n",
       "      <td>...</td>\n",
       "    </tr>\n",
       "    <tr>\n",
       "      <th>240119</th>\n",
       "      <td>F</td>\n",
       "      <td>Sales</td>\n",
       "    </tr>\n",
       "    <tr>\n",
       "      <th>240120</th>\n",
       "      <td>M</td>\n",
       "      <td>Sales</td>\n",
       "    </tr>\n",
       "    <tr>\n",
       "      <th>240121</th>\n",
       "      <td>M</td>\n",
       "      <td>Sales</td>\n",
       "    </tr>\n",
       "    <tr>\n",
       "      <th>240122</th>\n",
       "      <td>F</td>\n",
       "      <td>Sales</td>\n",
       "    </tr>\n",
       "    <tr>\n",
       "      <th>240123</th>\n",
       "      <td>F</td>\n",
       "      <td>Sales</td>\n",
       "    </tr>\n",
       "  </tbody>\n",
       "</table>\n",
       "<p>240124 rows × 2 columns</p>\n",
       "</div>"
      ],
      "text/plain": [
       "       gender         dept_name\n",
       "0           M  Customer Service\n",
       "1           F  Customer Service\n",
       "2           M  Customer Service\n",
       "3           F  Customer Service\n",
       "4           F  Customer Service\n",
       "...       ...               ...\n",
       "240119      F             Sales\n",
       "240120      M             Sales\n",
       "240121      M             Sales\n",
       "240122      F             Sales\n",
       "240123      F             Sales\n",
       "\n",
       "[240124 rows x 2 columns]"
      ]
     },
     "execution_count": 283,
     "metadata": {},
     "output_type": "execute_result"
    }
   ],
   "source": [
    "employees = get_db_url(env.user, env.password, env.host, 'employees')\n",
    "\n",
    "\n",
    "query11 = '''\n",
    "SELECT gender, dept_name \n",
    "FROM employees as e\n",
    "JOIN dept_emp as de\n",
    "ON e.emp_no = de.emp_no \n",
    "JOIN departments as d\n",
    "ON de.dept_no = d.dept_no\n",
    "WHERE de.to_date > now();\n",
    "'''\n",
    "\n",
    "emp_g_sm = pd.read_sql(query11, employees)\n",
    "emp_g_sm\n"
   ]
  },
  {
   "cell_type": "code",
   "execution_count": 287,
   "metadata": {},
   "outputs": [
    {
     "data": {
      "text/plain": [
       "array(['Customer Service', 'Development', 'Finance', 'Human Resources',\n",
       "       'Marketing', 'Production', 'Quality Management', 'Research',\n",
       "       'Sales'], dtype=object)"
      ]
     },
     "execution_count": 287,
     "metadata": {},
     "output_type": "execute_result"
    }
   ],
   "source": [
    "emp_g_sm.dept_name.unique()"
   ]
  },
  {
   "cell_type": "code",
   "execution_count": 288,
   "metadata": {},
   "outputs": [
    {
     "data": {
      "text/plain": [
       "dept_name\n",
       "Development           61386\n",
       "Production            53304\n",
       "Sales                 37701\n",
       "Customer Service      17569\n",
       "Research              15441\n",
       "Marketing             14842\n",
       "Quality Management    14546\n",
       "Human Resources       12898\n",
       "Finance               12437\n",
       "Name: count, dtype: int64"
      ]
     },
     "execution_count": 288,
     "metadata": {},
     "output_type": "execute_result"
    }
   ],
   "source": [
    "emp_g_sm.dept_name.value_counts()"
   ]
  },
  {
   "cell_type": "code",
   "execution_count": 307,
   "metadata": {},
   "outputs": [
    {
     "data": {
      "text/plain": [
       "0         False\n",
       "1         False\n",
       "2         False\n",
       "3         False\n",
       "4         False\n",
       "          ...  \n",
       "240119     True\n",
       "240120     True\n",
       "240121     True\n",
       "240122     True\n",
       "240123     True\n",
       "Name: marketing_or_sales, Length: 240124, dtype: bool"
      ]
     },
     "execution_count": 307,
     "metadata": {},
     "output_type": "execute_result"
    }
   ],
   "source": [
    "#create column for automatic transmission\n",
    "emp_g_sm['marketing_or_sales'] = emp_g_sm.dept_name.str.startswith('S') | emp_g_sm.dept_name.str.startswith('M')\n",
    "emp_g_sm.marketing_or_sales"
   ]
  },
  {
   "cell_type": "code",
   "execution_count": null,
   "metadata": {},
   "outputs": [],
   "source": [
    "# null there is no relationship \n",
    "# alt there is a relationship "
   ]
  },
  {
   "cell_type": "code",
   "execution_count": 308,
   "metadata": {},
   "outputs": [],
   "source": [
    "alpha = 0.05"
   ]
  },
  {
   "cell_type": "code",
   "execution_count": 309,
   "metadata": {},
   "outputs": [
    {
     "data": {
      "text/html": [
       "<div>\n",
       "<style scoped>\n",
       "    .dataframe tbody tr th:only-of-type {\n",
       "        vertical-align: middle;\n",
       "    }\n",
       "\n",
       "    .dataframe tbody tr th {\n",
       "        vertical-align: top;\n",
       "    }\n",
       "\n",
       "    .dataframe thead th {\n",
       "        text-align: right;\n",
       "    }\n",
       "</style>\n",
       "<table border=\"1\" class=\"dataframe\">\n",
       "  <thead>\n",
       "    <tr style=\"text-align: right;\">\n",
       "      <th>marketing_or_sales</th>\n",
       "      <th>False</th>\n",
       "      <th>True</th>\n",
       "    </tr>\n",
       "    <tr>\n",
       "      <th>gender</th>\n",
       "      <th></th>\n",
       "      <th></th>\n",
       "    </tr>\n",
       "  </thead>\n",
       "  <tbody>\n",
       "    <tr>\n",
       "      <th>F</th>\n",
       "      <td>75147</td>\n",
       "      <td>20863</td>\n",
       "    </tr>\n",
       "    <tr>\n",
       "      <th>M</th>\n",
       "      <td>112434</td>\n",
       "      <td>31680</td>\n",
       "    </tr>\n",
       "  </tbody>\n",
       "</table>\n",
       "</div>"
      ],
      "text/plain": [
       "marketing_or_sales   False  True \n",
       "gender                           \n",
       "F                    75147  20863\n",
       "M                   112434  31680"
      ]
     },
     "execution_count": 309,
     "metadata": {},
     "output_type": "execute_result"
    }
   ],
   "source": [
    "observed = pd.crosstab(emp_g_sm.gender, emp_g_sm.marketing_or_sales)\n",
    "observed"
   ]
  },
  {
   "cell_type": "code",
   "execution_count": 310,
   "metadata": {},
   "outputs": [
    {
     "data": {
      "text/plain": [
       "0.143911663394633"
      ]
     },
     "execution_count": 310,
     "metadata": {},
     "output_type": "execute_result"
    }
   ],
   "source": [
    "chi2, p, degf, expected = stats.chi2_contingency(observed)\n",
    "p"
   ]
  },
  {
   "cell_type": "code",
   "execution_count": 311,
   "metadata": {},
   "outputs": [
    {
     "name": "stdout",
     "output_type": "stream",
     "text": [
      "We fail to reject the null hypothesis\n"
     ]
    }
   ],
   "source": [
    "if p < alpha:\n",
    "    print('We reject the null hypothesis')\n",
    "else:\n",
    "    print('We fail to reject the null hypothesis')"
   ]
  },
  {
   "cell_type": "markdown",
   "metadata": {},
   "source": [
    "### Is an employee's gender independent of whether or not they are or have been a manager?\n"
   ]
  },
  {
   "cell_type": "code",
   "execution_count": 314,
   "metadata": {},
   "outputs": [
    {
     "data": {
      "text/html": [
       "<div>\n",
       "<style scoped>\n",
       "    .dataframe tbody tr th:only-of-type {\n",
       "        vertical-align: middle;\n",
       "    }\n",
       "\n",
       "    .dataframe tbody tr th {\n",
       "        vertical-align: top;\n",
       "    }\n",
       "\n",
       "    .dataframe thead th {\n",
       "        text-align: right;\n",
       "    }\n",
       "</style>\n",
       "<table border=\"1\" class=\"dataframe\">\n",
       "  <thead>\n",
       "    <tr style=\"text-align: right;\">\n",
       "      <th></th>\n",
       "      <th>gender</th>\n",
       "      <th>title</th>\n",
       "    </tr>\n",
       "  </thead>\n",
       "  <tbody>\n",
       "    <tr>\n",
       "      <th>0</th>\n",
       "      <td>M</td>\n",
       "      <td>Senior Engineer</td>\n",
       "    </tr>\n",
       "    <tr>\n",
       "      <th>1</th>\n",
       "      <td>F</td>\n",
       "      <td>Staff</td>\n",
       "    </tr>\n",
       "    <tr>\n",
       "      <th>2</th>\n",
       "      <td>M</td>\n",
       "      <td>Senior Engineer</td>\n",
       "    </tr>\n",
       "    <tr>\n",
       "      <th>3</th>\n",
       "      <td>M</td>\n",
       "      <td>Senior Engineer</td>\n",
       "    </tr>\n",
       "    <tr>\n",
       "      <th>4</th>\n",
       "      <td>M</td>\n",
       "      <td>Senior Staff</td>\n",
       "    </tr>\n",
       "    <tr>\n",
       "      <th>...</th>\n",
       "      <td>...</td>\n",
       "      <td>...</td>\n",
       "    </tr>\n",
       "    <tr>\n",
       "      <th>240119</th>\n",
       "      <td>F</td>\n",
       "      <td>Engineer</td>\n",
       "    </tr>\n",
       "    <tr>\n",
       "      <th>240120</th>\n",
       "      <td>M</td>\n",
       "      <td>Senior Engineer</td>\n",
       "    </tr>\n",
       "    <tr>\n",
       "      <th>240121</th>\n",
       "      <td>M</td>\n",
       "      <td>Senior Engineer</td>\n",
       "    </tr>\n",
       "    <tr>\n",
       "      <th>240122</th>\n",
       "      <td>M</td>\n",
       "      <td>Senior Staff</td>\n",
       "    </tr>\n",
       "    <tr>\n",
       "      <th>240123</th>\n",
       "      <td>M</td>\n",
       "      <td>Engineer</td>\n",
       "    </tr>\n",
       "  </tbody>\n",
       "</table>\n",
       "<p>240124 rows × 2 columns</p>\n",
       "</div>"
      ],
      "text/plain": [
       "       gender            title\n",
       "0           M  Senior Engineer\n",
       "1           F            Staff\n",
       "2           M  Senior Engineer\n",
       "3           M  Senior Engineer\n",
       "4           M     Senior Staff\n",
       "...       ...              ...\n",
       "240119      F         Engineer\n",
       "240120      M  Senior Engineer\n",
       "240121      M  Senior Engineer\n",
       "240122      M     Senior Staff\n",
       "240123      M         Engineer\n",
       "\n",
       "[240124 rows x 2 columns]"
      ]
     },
     "execution_count": 314,
     "metadata": {},
     "output_type": "execute_result"
    }
   ],
   "source": [
    "employees = get_db_url(env.user, env.password, env.host, 'employees')\n",
    "\n",
    "\n",
    "query12 = '''\n",
    "SELECT gender, title \n",
    "FROM employees as e\n",
    "JOIN titles as t\n",
    "ON e.emp_no = t.emp_no \n",
    "WHERE t.to_date > now();\n",
    "'''\n",
    "emp_gm = pd.read_sql(query12, employees)\n",
    "emp_gm"
   ]
  },
  {
   "cell_type": "code",
   "execution_count": 315,
   "metadata": {},
   "outputs": [
    {
     "data": {
      "text/plain": [
       "array(['Senior Engineer', 'Staff', 'Senior Staff', 'Engineer',\n",
       "       'Assistant Engineer', 'Technique Leader', 'Manager'], dtype=object)"
      ]
     },
     "execution_count": 315,
     "metadata": {},
     "output_type": "execute_result"
    }
   ],
   "source": [
    "emp_gm.title.unique()"
   ]
  },
  {
   "cell_type": "code",
   "execution_count": 316,
   "metadata": {},
   "outputs": [
    {
     "data": {
      "text/html": [
       "<div>\n",
       "<style scoped>\n",
       "    .dataframe tbody tr th:only-of-type {\n",
       "        vertical-align: middle;\n",
       "    }\n",
       "\n",
       "    .dataframe tbody tr th {\n",
       "        vertical-align: top;\n",
       "    }\n",
       "\n",
       "    .dataframe thead th {\n",
       "        text-align: right;\n",
       "    }\n",
       "</style>\n",
       "<table border=\"1\" class=\"dataframe\">\n",
       "  <thead>\n",
       "    <tr style=\"text-align: right;\">\n",
       "      <th></th>\n",
       "      <th>gender</th>\n",
       "      <th>title</th>\n",
       "      <th>manager</th>\n",
       "    </tr>\n",
       "  </thead>\n",
       "  <tbody>\n",
       "    <tr>\n",
       "      <th>0</th>\n",
       "      <td>M</td>\n",
       "      <td>Senior Engineer</td>\n",
       "      <td>False</td>\n",
       "    </tr>\n",
       "    <tr>\n",
       "      <th>1</th>\n",
       "      <td>F</td>\n",
       "      <td>Staff</td>\n",
       "      <td>False</td>\n",
       "    </tr>\n",
       "    <tr>\n",
       "      <th>2</th>\n",
       "      <td>M</td>\n",
       "      <td>Senior Engineer</td>\n",
       "      <td>False</td>\n",
       "    </tr>\n",
       "    <tr>\n",
       "      <th>3</th>\n",
       "      <td>M</td>\n",
       "      <td>Senior Engineer</td>\n",
       "      <td>False</td>\n",
       "    </tr>\n",
       "    <tr>\n",
       "      <th>4</th>\n",
       "      <td>M</td>\n",
       "      <td>Senior Staff</td>\n",
       "      <td>False</td>\n",
       "    </tr>\n",
       "    <tr>\n",
       "      <th>...</th>\n",
       "      <td>...</td>\n",
       "      <td>...</td>\n",
       "      <td>...</td>\n",
       "    </tr>\n",
       "    <tr>\n",
       "      <th>240119</th>\n",
       "      <td>F</td>\n",
       "      <td>Engineer</td>\n",
       "      <td>False</td>\n",
       "    </tr>\n",
       "    <tr>\n",
       "      <th>240120</th>\n",
       "      <td>M</td>\n",
       "      <td>Senior Engineer</td>\n",
       "      <td>False</td>\n",
       "    </tr>\n",
       "    <tr>\n",
       "      <th>240121</th>\n",
       "      <td>M</td>\n",
       "      <td>Senior Engineer</td>\n",
       "      <td>False</td>\n",
       "    </tr>\n",
       "    <tr>\n",
       "      <th>240122</th>\n",
       "      <td>M</td>\n",
       "      <td>Senior Staff</td>\n",
       "      <td>False</td>\n",
       "    </tr>\n",
       "    <tr>\n",
       "      <th>240123</th>\n",
       "      <td>M</td>\n",
       "      <td>Engineer</td>\n",
       "      <td>False</td>\n",
       "    </tr>\n",
       "  </tbody>\n",
       "</table>\n",
       "<p>240124 rows × 3 columns</p>\n",
       "</div>"
      ],
      "text/plain": [
       "       gender            title  manager\n",
       "0           M  Senior Engineer    False\n",
       "1           F            Staff    False\n",
       "2           M  Senior Engineer    False\n",
       "3           M  Senior Engineer    False\n",
       "4           M     Senior Staff    False\n",
       "...       ...              ...      ...\n",
       "240119      F         Engineer    False\n",
       "240120      M  Senior Engineer    False\n",
       "240121      M  Senior Engineer    False\n",
       "240122      M     Senior Staff    False\n",
       "240123      M         Engineer    False\n",
       "\n",
       "[240124 rows x 3 columns]"
      ]
     },
     "execution_count": 316,
     "metadata": {},
     "output_type": "execute_result"
    }
   ],
   "source": [
    "emp_gm['manager'] = emp_gm.title.str.startswith('M') \n",
    "emp_gm\n"
   ]
  },
  {
   "cell_type": "code",
   "execution_count": null,
   "metadata": {},
   "outputs": [],
   "source": [
    "# null there is no relationship \n",
    "# there is a relationship "
   ]
  },
  {
   "cell_type": "code",
   "execution_count": 317,
   "metadata": {},
   "outputs": [],
   "source": [
    "alpha = 0.05"
   ]
  },
  {
   "cell_type": "code",
   "execution_count": 318,
   "metadata": {},
   "outputs": [
    {
     "data": {
      "text/html": [
       "<div>\n",
       "<style scoped>\n",
       "    .dataframe tbody tr th:only-of-type {\n",
       "        vertical-align: middle;\n",
       "    }\n",
       "\n",
       "    .dataframe tbody tr th {\n",
       "        vertical-align: top;\n",
       "    }\n",
       "\n",
       "    .dataframe thead th {\n",
       "        text-align: right;\n",
       "    }\n",
       "</style>\n",
       "<table border=\"1\" class=\"dataframe\">\n",
       "  <thead>\n",
       "    <tr style=\"text-align: right;\">\n",
       "      <th>manager</th>\n",
       "      <th>False</th>\n",
       "      <th>True</th>\n",
       "    </tr>\n",
       "    <tr>\n",
       "      <th>gender</th>\n",
       "      <th></th>\n",
       "      <th></th>\n",
       "    </tr>\n",
       "  </thead>\n",
       "  <tbody>\n",
       "    <tr>\n",
       "      <th>F</th>\n",
       "      <td>96006</td>\n",
       "      <td>4</td>\n",
       "    </tr>\n",
       "    <tr>\n",
       "      <th>M</th>\n",
       "      <td>144109</td>\n",
       "      <td>5</td>\n",
       "    </tr>\n",
       "  </tbody>\n",
       "</table>\n",
       "</div>"
      ],
      "text/plain": [
       "manager   False  True \n",
       "gender                \n",
       "F         96006      4\n",
       "M        144109      5"
      ]
     },
     "execution_count": 318,
     "metadata": {},
     "output_type": "execute_result"
    }
   ],
   "source": [
    "observed = pd.crosstab(emp_gm.gender, emp_gm.manager)\n",
    "observed"
   ]
  },
  {
   "cell_type": "code",
   "execution_count": 319,
   "metadata": {},
   "outputs": [
    {
     "data": {
      "text/plain": [
       "1.0"
      ]
     },
     "execution_count": 319,
     "metadata": {},
     "output_type": "execute_result"
    }
   ],
   "source": [
    "chi2, p, degf, expected = stats.chi2_contingency(observed)\n",
    "p"
   ]
  },
  {
   "cell_type": "code",
   "execution_count": 320,
   "metadata": {},
   "outputs": [
    {
     "name": "stdout",
     "output_type": "stream",
     "text": [
      "We fail to reject the null hypothesis\n"
     ]
    }
   ],
   "source": [
    "if p < alpha:\n",
    "    print('We reject the null hypothesis')\n",
    "else:\n",
    "    print('We fail to reject the null hypothesis')"
   ]
  }
 ],
 "metadata": {
  "kernelspec": {
   "display_name": "base",
   "language": "python",
   "name": "python3"
  },
  "language_info": {
   "codemirror_mode": {
    "name": "ipython",
    "version": 3
   },
   "file_extension": ".py",
   "mimetype": "text/x-python",
   "name": "python",
   "nbconvert_exporter": "python",
   "pygments_lexer": "ipython3",
   "version": "3.10.9"
  },
  "orig_nbformat": 4
 },
 "nbformat": 4,
 "nbformat_minor": 2
}
